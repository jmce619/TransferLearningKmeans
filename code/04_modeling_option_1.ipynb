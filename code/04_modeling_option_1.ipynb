{
 "cells": [
  {
   "cell_type": "markdown",
   "metadata": {},
   "source": [
    "# Modeling - Option 1:\n",
    "## Predicting affluence in our NYC clusters"
   ]
  },
  {
   "cell_type": "markdown",
   "metadata": {
    "toc": true
   },
   "source": [
    "<h1>Table of Contents<span class=\"tocSkip\"></span></h1>\n",
    "<div class=\"toc\"><ul class=\"toc-item\"><li><span><a href=\"#Modeling---Option-1:\" data-toc-modified-id=\"Modeling---Option-1:-1\"><span class=\"toc-item-num\">1&nbsp;&nbsp;</span>Modeling - Option 1:</a></span><ul class=\"toc-item\"><li><span><a href=\"#Predicting-affluence-in-our-NYC-clusters\" data-toc-modified-id=\"Predicting-affluence-in-our-NYC-clusters-1.1\"><span class=\"toc-item-num\">1.1&nbsp;&nbsp;</span>Predicting affluence in our NYC clusters</a></span></li><li><span><a href=\"#Import-Libraries-and-Data\" data-toc-modified-id=\"Import-Libraries-and-Data-1.2\"><span class=\"toc-item-num\">1.2&nbsp;&nbsp;</span>Import Libraries and Data</a></span><ul class=\"toc-item\"><li><span><a href=\"#Import-libraries\" data-toc-modified-id=\"Import-libraries-1.2.1\"><span class=\"toc-item-num\">1.2.1&nbsp;&nbsp;</span>Import libraries</a></span></li><li><span><a href=\"#Load-data\" data-toc-modified-id=\"Load-data-1.2.2\"><span class=\"toc-item-num\">1.2.2&nbsp;&nbsp;</span>Load data</a></span></li></ul></li><li><span><a href=\"#Feature-Engineering:-creating-fractional-columns\" data-toc-modified-id=\"Feature-Engineering:-creating-fractional-columns-1.3\"><span class=\"toc-item-num\">1.3&nbsp;&nbsp;</span>Feature Engineering: creating fractional columns</a></span></li></ul></li><li><span><a href=\"#Model-Preparation\" data-toc-modified-id=\"Model-Preparation-2\"><span class=\"toc-item-num\">2&nbsp;&nbsp;</span>Model Preparation</a></span></li><li><span><a href=\"#Train,-Test-Split\" data-toc-modified-id=\"Train,-Test-Split-3\"><span class=\"toc-item-num\">3&nbsp;&nbsp;</span>Train, Test Split</a></span></li><li><span><a href=\"#Modeling\" data-toc-modified-id=\"Modeling-4\"><span class=\"toc-item-num\">4&nbsp;&nbsp;</span>Modeling</a></span><ul class=\"toc-item\"><li><span><a href=\"#Evaluation-Metric:-ROC\" data-toc-modified-id=\"Evaluation-Metric:-ROC-4.1\"><span class=\"toc-item-num\">4.1&nbsp;&nbsp;</span>Evaluation Metric: ROC</a></span></li><li><span><a href=\"#Baseline-Model\" data-toc-modified-id=\"Baseline-Model-4.2\"><span class=\"toc-item-num\">4.2&nbsp;&nbsp;</span>Baseline Model</a></span></li><li><span><a href=\"#Modeling-Procedure\" data-toc-modified-id=\"Modeling-Procedure-4.3\"><span class=\"toc-item-num\">4.3&nbsp;&nbsp;</span>Modeling Procedure</a></span><ul class=\"toc-item\"><li><span><a href=\"#Logistic-Regression-/-GridSearch\" data-toc-modified-id=\"Logistic-Regression-/-GridSearch-4.3.1\"><span class=\"toc-item-num\">4.3.1&nbsp;&nbsp;</span>Logistic Regression / GridSearch</a></span></li><li><span><a href=\"#KNN-modeling-/-GridSearch\" data-toc-modified-id=\"KNN-modeling-/-GridSearch-4.3.2\"><span class=\"toc-item-num\">4.3.2&nbsp;&nbsp;</span>KNN modeling / GridSearch</a></span></li><li><span><a href=\"#Decision-Tree-/-GridSearch\" data-toc-modified-id=\"Decision-Tree-/-GridSearch-4.3.3\"><span class=\"toc-item-num\">4.3.3&nbsp;&nbsp;</span>Decision Tree / GridSearch</a></span></li><li><span><a href=\"#Bagging-Classifier-/-GridSearch\" data-toc-modified-id=\"Bagging-Classifier-/-GridSearch-4.3.4\"><span class=\"toc-item-num\">4.3.4&nbsp;&nbsp;</span>Bagging Classifier / GridSearch</a></span></li><li><span><a href=\"#Random-Forest-/-GridSearch\" data-toc-modified-id=\"Random-Forest-/-GridSearch-4.3.5\"><span class=\"toc-item-num\">4.3.5&nbsp;&nbsp;</span>Random Forest / GridSearch</a></span></li></ul></li><li><span><a href=\"#Model-Comparison-Summary\" data-toc-modified-id=\"Model-Comparison-Summary-4.4\"><span class=\"toc-item-num\">4.4&nbsp;&nbsp;</span>Model Comparison Summary</a></span><ul class=\"toc-item\"><li><ul class=\"toc-item\"><li><span><a href=\"#Training-Scores:\" data-toc-modified-id=\"Training-Scores:-4.4.0.1\"><span class=\"toc-item-num\">4.4.0.1&nbsp;&nbsp;</span>Training Scores:</a></span></li><li><span><a href=\"#Testing-Scores:\" data-toc-modified-id=\"Testing-Scores:-4.4.0.2\"><span class=\"toc-item-num\">4.4.0.2&nbsp;&nbsp;</span>Testing Scores:</a></span></li><li><span><a href=\"#Cross-Validation-Scores:\" data-toc-modified-id=\"Cross-Validation-Scores:-4.4.0.3\"><span class=\"toc-item-num\">4.4.0.3&nbsp;&nbsp;</span>Cross Validation Scores:</a></span></li></ul></li></ul></li><li><span><a href=\"#Model-Selection\" data-toc-modified-id=\"Model-Selection-4.5\"><span class=\"toc-item-num\">4.5&nbsp;&nbsp;</span>Model Selection</a></span></li><li><span><a href=\"#Model-Evaluation\" data-toc-modified-id=\"Model-Evaluation-4.6\"><span class=\"toc-item-num\">4.6&nbsp;&nbsp;</span>Model Evaluation</a></span><ul class=\"toc-item\"><li><span><a href=\"#Confusion-Matrix\" data-toc-modified-id=\"Confusion-Matrix-4.6.1\"><span class=\"toc-item-num\">4.6.1&nbsp;&nbsp;</span>Confusion Matrix</a></span></li><li><span><a href=\"#ROC-Curve-and-AUC-ROC\" data-toc-modified-id=\"ROC-Curve-and-AUC-ROC-4.6.2\"><span class=\"toc-item-num\">4.6.2&nbsp;&nbsp;</span>ROC Curve and AUC ROC</a></span></li></ul></li><li><span><a href=\"#Additional-Modeling-/-EDA:-Principal-Component-Analysis\" data-toc-modified-id=\"Additional-Modeling-/-EDA:-Principal-Component-Analysis-4.7\"><span class=\"toc-item-num\">4.7&nbsp;&nbsp;</span>Additional Modeling / EDA: Principal Component Analysis</a></span><ul class=\"toc-item\"><li><span><a href=\"#Model-with-Principal-Components-(keeping-99%-of-original-variance)\" data-toc-modified-id=\"Model-with-Principal-Components-(keeping-99%-of-original-variance)-4.7.1\"><span class=\"toc-item-num\">4.7.1&nbsp;&nbsp;</span>Model with Principal Components (keeping 99% of original variance)</a></span></li><li><span><a href=\"#Ranking-the-Principal-Components-in-order-of-correlation-with-our-target-(affluence)\" data-toc-modified-id=\"Ranking-the-Principal-Components-in-order-of-correlation-with-our-target-(affluence)-4.7.2\"><span class=\"toc-item-num\">4.7.2&nbsp;&nbsp;</span>Ranking the Principal Components in order of correlation with our target (affluence)</a></span></li><li><span><a href=\"#Interpreting-PC1\" data-toc-modified-id=\"Interpreting-PC1-4.7.3\"><span class=\"toc-item-num\">4.7.3&nbsp;&nbsp;</span>Interpreting PC1</a></span></li><li><span><a href=\"#Interpreting-PC48\" data-toc-modified-id=\"Interpreting-PC48-4.7.4\"><span class=\"toc-item-num\">4.7.4&nbsp;&nbsp;</span>Interpreting PC48</a></span></li><li><span><a href=\"#Interpreting-PC28\" data-toc-modified-id=\"Interpreting-PC28-4.7.5\"><span class=\"toc-item-num\">4.7.5&nbsp;&nbsp;</span>Interpreting PC28</a></span></li><li><span><a href=\"#Principal-Component-Analysis---concluding-thoughts\" data-toc-modified-id=\"Principal-Component-Analysis---concluding-thoughts-4.7.6\"><span class=\"toc-item-num\">4.7.6&nbsp;&nbsp;</span>Principal Component Analysis - concluding thoughts</a></span></li></ul></li><li><span><a href=\"#Conclusion---Model-Option-1\" data-toc-modified-id=\"Conclusion---Model-Option-1-4.8\"><span class=\"toc-item-num\">4.8&nbsp;&nbsp;</span>Conclusion - Model Option 1</a></span></li></ul></li></ul></div>"
   ]
  },
  {
   "cell_type": "markdown",
   "metadata": {},
   "source": [
    "__Context and Motivation for this modeling exercise__:\n",
    "In the prior Data Cleaning & Exploratory Data Analysis (EDA) notebook, we noted some interesting insights based on the relative percentages of business types in each NYC Borough.\n",
    "\n",
    "__EDA Insights - Business Categories__:\n",
    "- __Manhattan__ has a higher percentage of __coffee__ shops relative to other business types\n",
    "- __Bronx__ and __Staten Island__ have a higher percentage of __pizza__ shops, relative to other types\n",
    "- __Queens__ has a larger percentage of __Chinese__ restaurants, relative to other types\n",
    "- __Staten Island__ has the highest percentage of __hot dog__ shops, relative to other types of businesses\n",
    "\n",
    "__EDA Insights - Price Categories__:\n",
    "- Manhattan has a predominance of __2 and 3 dollar-sign__ businesses \n",
    "- Bronx contains predominantly __1 dollar sign__ businesses.\n",
    "\n",
    "We believe that these observations demonstrate that the relative distribution of types of businesses within a neighborhood and could be a predictor of affluence. Per our client's interest in predicting affluence based on the business types within a neighborhood, we will explore these types of questions via modeling methods in this Modeling Option 1 notebook.  We aim to help establish whether we can predict the affluence of the K-means 'clusters' developed earlier, with the larger end-goal of allowing our client to later use this method/model process for other cities or areas of interest.\n",
    "\n",
    "We recognize that because we will be using aggregate business details, our observations will be limited by the number of clusters we created. We only have 80 observations/clusters, which is not ideal. Thus, we will pursue Modeling Option 2 in parallel (using each of our 20,000 businesses as observations).\n",
    "\n",
    "__Model Option 1 - Results Overview__:\n",
    " In the present notebook we utilize ROC AUC as our measurement metric. We explore a variety of classification and tree-based prediction models. Our selected model is Logistic Regression with a ROC AUC of 0.869. We also explore Principal Component Analysis as a modeling option for our cluster dataset and uncover interesting business associations that are predictors of affluent neighborhoods.\n"
   ]
  },
  {
   "cell_type": "markdown",
   "metadata": {},
   "source": [
    "## Import Libraries and Data"
   ]
  },
  {
   "cell_type": "markdown",
   "metadata": {},
   "source": [
    "### Import libraries"
   ]
  },
  {
   "cell_type": "code",
   "execution_count": 1,
   "metadata": {},
   "outputs": [],
   "source": [
    "import numpy as np\n",
    "import pandas as pd\n",
    "import matplotlib.pyplot as plt\n",
    "import seaborn as sns\n",
    "\n",
    "from sklearn.preprocessing import StandardScaler\n",
    "from sklearn.model_selection import train_test_split, GridSearchCV, cross_val_score\n",
    "from sklearn.pipeline import Pipeline\n",
    "\n",
    "from sklearn.linear_model import LogisticRegression\n",
    "from sklearn.neighbors import KNeighborsClassifier\n",
    "from sklearn.tree import DecisionTreeClassifier\n",
    "from sklearn.ensemble import BaggingClassifier, RandomForestClassifier\n",
    "from sklearn.decomposition import PCA\n",
    "\n",
    "from sklearn.metrics import confusion_matrix, roc_curve, auc, make_scorer, roc_auc_score\n",
    "\n",
    "import matplotlib\n",
    "\n",
    "import warnings\n",
    "warnings.simplefilter(action='ignore', category=FutureWarning)\n",
    "\n",
    "%matplotlib inline\n",
    "\n",
    "RANDOM_STATE = 42"
   ]
  },
  {
   "cell_type": "markdown",
   "metadata": {},
   "source": [
    "### Load data"
   ]
  },
  {
   "cell_type": "code",
   "execution_count": 2,
   "metadata": {},
   "outputs": [],
   "source": [
    "# Import our clean yelp data, with the cluster and 'is_affluent' columns\n",
    "\n",
    "yelp = pd.read_csv('../data/yelp_clean.csv')"
   ]
  },
  {
   "cell_type": "markdown",
   "metadata": {},
   "source": [
    "## Feature Engineering: creating fractional columns"
   ]
  },
  {
   "cell_type": "code",
   "execution_count": 3,
   "metadata": {},
   "outputs": [
    {
     "data": {
      "text/html": [
       "<div>\n",
       "<style scoped>\n",
       "    .dataframe tbody tr th:only-of-type {\n",
       "        vertical-align: middle;\n",
       "    }\n",
       "\n",
       "    .dataframe tbody tr th {\n",
       "        vertical-align: top;\n",
       "    }\n",
       "\n",
       "    .dataframe thead th {\n",
       "        text-align: right;\n",
       "    }\n",
       "</style>\n",
       "<table border=\"1\" class=\"dataframe\">\n",
       "  <thead>\n",
       "    <tr style=\"text-align: right;\">\n",
       "      <th></th>\n",
       "      <th>Unnamed: 0</th>\n",
       "      <th>name</th>\n",
       "      <th>review_count</th>\n",
       "      <th>rating</th>\n",
       "      <th>price</th>\n",
       "      <th>cat1</th>\n",
       "      <th>zip_code</th>\n",
       "      <th>nyc</th>\n",
       "      <th>borough</th>\n",
       "      <th>cluster</th>\n",
       "      <th>is_affluent</th>\n",
       "    </tr>\n",
       "  </thead>\n",
       "  <tbody>\n",
       "    <tr>\n",
       "      <td>0</td>\n",
       "      <td>0</td>\n",
       "      <td>Com Tam Ninh Kieu</td>\n",
       "      <td>379</td>\n",
       "      <td>4.0</td>\n",
       "      <td>2</td>\n",
       "      <td>vietnamese</td>\n",
       "      <td>10468</td>\n",
       "      <td>True</td>\n",
       "      <td>Bronx</td>\n",
       "      <td>12</td>\n",
       "      <td>0</td>\n",
       "    </tr>\n",
       "    <tr>\n",
       "      <td>1</td>\n",
       "      <td>1</td>\n",
       "      <td>Antonio's Trattoria</td>\n",
       "      <td>773</td>\n",
       "      <td>4.5</td>\n",
       "      <td>2</td>\n",
       "      <td>italian</td>\n",
       "      <td>10458</td>\n",
       "      <td>True</td>\n",
       "      <td>Bronx</td>\n",
       "      <td>12</td>\n",
       "      <td>0</td>\n",
       "    </tr>\n",
       "    <tr>\n",
       "      <td>2</td>\n",
       "      <td>2</td>\n",
       "      <td>Bronx Alehouse</td>\n",
       "      <td>749</td>\n",
       "      <td>4.0</td>\n",
       "      <td>2</td>\n",
       "      <td>tradamerican</td>\n",
       "      <td>10463</td>\n",
       "      <td>True</td>\n",
       "      <td>Bronx</td>\n",
       "      <td>62</td>\n",
       "      <td>0</td>\n",
       "    </tr>\n",
       "    <tr>\n",
       "      <td>3</td>\n",
       "      <td>4</td>\n",
       "      <td>The Bronx Public</td>\n",
       "      <td>443</td>\n",
       "      <td>4.0</td>\n",
       "      <td>2</td>\n",
       "      <td>sportsbars</td>\n",
       "      <td>10463</td>\n",
       "      <td>True</td>\n",
       "      <td>Bronx</td>\n",
       "      <td>62</td>\n",
       "      <td>0</td>\n",
       "    </tr>\n",
       "    <tr>\n",
       "      <td>4</td>\n",
       "      <td>5</td>\n",
       "      <td>Trattoria Zero Otto Nove</td>\n",
       "      <td>749</td>\n",
       "      <td>4.0</td>\n",
       "      <td>2</td>\n",
       "      <td>italian</td>\n",
       "      <td>10458</td>\n",
       "      <td>True</td>\n",
       "      <td>Bronx</td>\n",
       "      <td>12</td>\n",
       "      <td>0</td>\n",
       "    </tr>\n",
       "  </tbody>\n",
       "</table>\n",
       "</div>"
      ],
      "text/plain": [
       "   Unnamed: 0                      name  review_count  rating  price  \\\n",
       "0           0         Com Tam Ninh Kieu           379     4.0      2   \n",
       "1           1       Antonio's Trattoria           773     4.5      2   \n",
       "2           2            Bronx Alehouse           749     4.0      2   \n",
       "3           4          The Bronx Public           443     4.0      2   \n",
       "4           5  Trattoria Zero Otto Nove           749     4.0      2   \n",
       "\n",
       "           cat1  zip_code   nyc borough  cluster  is_affluent  \n",
       "0    vietnamese     10468  True   Bronx       12            0  \n",
       "1       italian     10458  True   Bronx       12            0  \n",
       "2  tradamerican     10463  True   Bronx       62            0  \n",
       "3    sportsbars     10463  True   Bronx       62            0  \n",
       "4       italian     10458  True   Bronx       12            0  "
      ]
     },
     "execution_count": 3,
     "metadata": {},
     "output_type": "execute_result"
    }
   ],
   "source": [
    "# Quick view of the data set\n",
    "yelp.head()"
   ]
  },
  {
   "cell_type": "code",
   "execution_count": 4,
   "metadata": {},
   "outputs": [],
   "source": [
    "# We define a function to calculate the percentage presence for each feature category across all the others\n",
    "# In our current use case, the group is our cluster and the fraction is the % of the feature type (price or category)\n",
    "def class_fraction_feature(df_feature, group_col, feature_col):\n",
    "    '''Function to create percent features. Take in a data frame, df_feature, collect the \n",
    "    categories in the group_col identify the features in feature_col and give a percent of the feature for the group.\n",
    "    '''\n",
    "    # identify unique groups and the unique features\n",
    "    groups   = df_feature[group_col].unique().tolist()\n",
    "    features = df_feature[feature_col].unique().tolist()    \n",
    "    \n",
    "    # Create a dictionary to store the groups. Iterate through the groups and collect counts for the features\n",
    "    data = []\n",
    "    for g in groups:\n",
    "        # empty dictionary, which will be filled with groups\n",
    "        g_dict = {'group_col':g}\n",
    "        \n",
    "        for f in features:\n",
    "            g_dict[f] = df_feature[(df_feature[group_col]==g)&(df_feature[feature_col]==f)][feature_col].count()\n",
    "    \n",
    "        # append the dictionary entry for a group to the list of groups\n",
    "        data.append(g_dict)\n",
    "        \n",
    "    data = pd.DataFrame(data)\n",
    "    \n",
    "    # Create total by row and create fraction on each column\n",
    "    data['total'] = data[features].sum(axis = 1)\n",
    "    for f in features:\n",
    "        data[ str(f) + '_fraction'] = data[f]/data['total']\n",
    "   \n",
    "    return data"
   ]
  },
  {
   "cell_type": "code",
   "execution_count": 5,
   "metadata": {},
   "outputs": [],
   "source": [
    "# Using our fraction_feature function, we calculate the percentages for each business type:  \n",
    "# by category type & price\n",
    "cluster_price_fraction = class_fraction_feature(yelp,'cluster','price')\n",
    "cluster_type_fraction = class_fraction_feature(yelp,'cluster','cat1')"
   ]
  },
  {
   "cell_type": "code",
   "execution_count": 6,
   "metadata": {},
   "outputs": [
    {
     "data": {
      "text/html": [
       "<div>\n",
       "<style scoped>\n",
       "    .dataframe tbody tr th:only-of-type {\n",
       "        vertical-align: middle;\n",
       "    }\n",
       "\n",
       "    .dataframe tbody tr th {\n",
       "        vertical-align: top;\n",
       "    }\n",
       "\n",
       "    .dataframe thead th {\n",
       "        text-align: right;\n",
       "    }\n",
       "</style>\n",
       "<table border=\"1\" class=\"dataframe\">\n",
       "  <thead>\n",
       "    <tr style=\"text-align: right;\">\n",
       "      <th></th>\n",
       "      <th>group_col</th>\n",
       "      <th>2</th>\n",
       "      <th>1</th>\n",
       "      <th>3</th>\n",
       "      <th>4</th>\n",
       "      <th>total</th>\n",
       "      <th>2_fraction</th>\n",
       "      <th>1_fraction</th>\n",
       "      <th>3_fraction</th>\n",
       "      <th>4_fraction</th>\n",
       "    </tr>\n",
       "  </thead>\n",
       "  <tbody>\n",
       "    <tr>\n",
       "      <td>0</td>\n",
       "      <td>12</td>\n",
       "      <td>76</td>\n",
       "      <td>129</td>\n",
       "      <td>3</td>\n",
       "      <td>1</td>\n",
       "      <td>209</td>\n",
       "      <td>0.363636</td>\n",
       "      <td>0.617225</td>\n",
       "      <td>0.014354</td>\n",
       "      <td>0.004785</td>\n",
       "    </tr>\n",
       "    <tr>\n",
       "      <td>1</td>\n",
       "      <td>62</td>\n",
       "      <td>72</td>\n",
       "      <td>69</td>\n",
       "      <td>3</td>\n",
       "      <td>0</td>\n",
       "      <td>144</td>\n",
       "      <td>0.500000</td>\n",
       "      <td>0.479167</td>\n",
       "      <td>0.020833</td>\n",
       "      <td>0.000000</td>\n",
       "    </tr>\n",
       "    <tr>\n",
       "      <td>2</td>\n",
       "      <td>42</td>\n",
       "      <td>70</td>\n",
       "      <td>74</td>\n",
       "      <td>1</td>\n",
       "      <td>0</td>\n",
       "      <td>145</td>\n",
       "      <td>0.482759</td>\n",
       "      <td>0.510345</td>\n",
       "      <td>0.006897</td>\n",
       "      <td>0.000000</td>\n",
       "    </tr>\n",
       "    <tr>\n",
       "      <td>3</td>\n",
       "      <td>38</td>\n",
       "      <td>21</td>\n",
       "      <td>70</td>\n",
       "      <td>0</td>\n",
       "      <td>0</td>\n",
       "      <td>91</td>\n",
       "      <td>0.230769</td>\n",
       "      <td>0.769231</td>\n",
       "      <td>0.000000</td>\n",
       "      <td>0.000000</td>\n",
       "    </tr>\n",
       "    <tr>\n",
       "      <td>4</td>\n",
       "      <td>56</td>\n",
       "      <td>42</td>\n",
       "      <td>108</td>\n",
       "      <td>0</td>\n",
       "      <td>1</td>\n",
       "      <td>151</td>\n",
       "      <td>0.278146</td>\n",
       "      <td>0.715232</td>\n",
       "      <td>0.000000</td>\n",
       "      <td>0.006623</td>\n",
       "    </tr>\n",
       "  </tbody>\n",
       "</table>\n",
       "</div>"
      ],
      "text/plain": [
       "   group_col   2    1  3  4  total  2_fraction  1_fraction  3_fraction  \\\n",
       "0         12  76  129  3  1    209    0.363636    0.617225    0.014354   \n",
       "1         62  72   69  3  0    144    0.500000    0.479167    0.020833   \n",
       "2         42  70   74  1  0    145    0.482759    0.510345    0.006897   \n",
       "3         38  21   70  0  0     91    0.230769    0.769231    0.000000   \n",
       "4         56  42  108  0  1    151    0.278146    0.715232    0.000000   \n",
       "\n",
       "   4_fraction  \n",
       "0    0.004785  \n",
       "1    0.000000  \n",
       "2    0.000000  \n",
       "3    0.000000  \n",
       "4    0.006623  "
      ]
     },
     "execution_count": 6,
     "metadata": {},
     "output_type": "execute_result"
    }
   ],
   "source": [
    "# As an example, we show the fraction table for 'price'.\n",
    "cluster_price_fraction.head()"
   ]
  },
  {
   "cell_type": "code",
   "execution_count": 7,
   "metadata": {},
   "outputs": [],
   "source": [
    "# Create a reference dataframe of the cluster numbers and their affluence category\n",
    "cluster_is_affluent = yelp[['cluster', 'is_affluent']]\n",
    "cluster_is_affluent = cluster_is_affluent.drop_duplicates(keep ='first')"
   ]
  },
  {
   "cell_type": "code",
   "execution_count": 8,
   "metadata": {},
   "outputs": [],
   "source": [
    "# Join the fractions together to create a combined set for the clusters\n",
    "cluster_fraction = cluster_price_fraction.merge(cluster_type_fraction, on = 'group_col', suffixes = ('_x','_y'))\n",
    "\n",
    "# join on affluence\n",
    "cluster_fraction = cluster_fraction.rename(columns={'group_col':'cluster'})\n",
    "cluster_fraction = cluster_is_affluent.merge(cluster_fraction, on = 'cluster')"
   ]
  },
  {
   "cell_type": "code",
   "execution_count": 9,
   "metadata": {},
   "outputs": [
    {
     "data": {
      "text/html": [
       "<div>\n",
       "<style scoped>\n",
       "    .dataframe tbody tr th:only-of-type {\n",
       "        vertical-align: middle;\n",
       "    }\n",
       "\n",
       "    .dataframe tbody tr th {\n",
       "        vertical-align: top;\n",
       "    }\n",
       "\n",
       "    .dataframe thead th {\n",
       "        text-align: right;\n",
       "    }\n",
       "</style>\n",
       "<table border=\"1\" class=\"dataframe\">\n",
       "  <thead>\n",
       "    <tr style=\"text-align: right;\">\n",
       "      <th></th>\n",
       "      <th>cluster</th>\n",
       "      <th>is_affluent</th>\n",
       "      <th>2</th>\n",
       "      <th>1</th>\n",
       "      <th>3</th>\n",
       "      <th>4</th>\n",
       "      <th>total_x</th>\n",
       "      <th>2_fraction</th>\n",
       "      <th>1_fraction</th>\n",
       "      <th>3_fraction</th>\n",
       "      <th>...</th>\n",
       "      <th>giftshops_fraction</th>\n",
       "      <th>spas_fraction</th>\n",
       "      <th>singaporean_fraction</th>\n",
       "      <th>diyfood_fraction</th>\n",
       "      <th>kids_activities_fraction</th>\n",
       "      <th>shopping_fraction</th>\n",
       "      <th>cookingschools_fraction</th>\n",
       "      <th>burmese_fraction</th>\n",
       "      <th>sicilian_fraction</th>\n",
       "      <th>farmersmarket_fraction</th>\n",
       "    </tr>\n",
       "  </thead>\n",
       "  <tbody>\n",
       "    <tr>\n",
       "      <td>0</td>\n",
       "      <td>12</td>\n",
       "      <td>0</td>\n",
       "      <td>76</td>\n",
       "      <td>129</td>\n",
       "      <td>3</td>\n",
       "      <td>1</td>\n",
       "      <td>209</td>\n",
       "      <td>0.363636</td>\n",
       "      <td>0.617225</td>\n",
       "      <td>0.014354</td>\n",
       "      <td>...</td>\n",
       "      <td>0.0</td>\n",
       "      <td>0.0</td>\n",
       "      <td>0.0</td>\n",
       "      <td>0.0</td>\n",
       "      <td>0.0</td>\n",
       "      <td>0.0</td>\n",
       "      <td>0.0</td>\n",
       "      <td>0.0</td>\n",
       "      <td>0.0</td>\n",
       "      <td>0.0</td>\n",
       "    </tr>\n",
       "    <tr>\n",
       "      <td>1</td>\n",
       "      <td>62</td>\n",
       "      <td>0</td>\n",
       "      <td>72</td>\n",
       "      <td>69</td>\n",
       "      <td>3</td>\n",
       "      <td>0</td>\n",
       "      <td>144</td>\n",
       "      <td>0.500000</td>\n",
       "      <td>0.479167</td>\n",
       "      <td>0.020833</td>\n",
       "      <td>...</td>\n",
       "      <td>0.0</td>\n",
       "      <td>0.0</td>\n",
       "      <td>0.0</td>\n",
       "      <td>0.0</td>\n",
       "      <td>0.0</td>\n",
       "      <td>0.0</td>\n",
       "      <td>0.0</td>\n",
       "      <td>0.0</td>\n",
       "      <td>0.0</td>\n",
       "      <td>0.0</td>\n",
       "    </tr>\n",
       "    <tr>\n",
       "      <td>2</td>\n",
       "      <td>42</td>\n",
       "      <td>0</td>\n",
       "      <td>70</td>\n",
       "      <td>74</td>\n",
       "      <td>1</td>\n",
       "      <td>0</td>\n",
       "      <td>145</td>\n",
       "      <td>0.482759</td>\n",
       "      <td>0.510345</td>\n",
       "      <td>0.006897</td>\n",
       "      <td>...</td>\n",
       "      <td>0.0</td>\n",
       "      <td>0.0</td>\n",
       "      <td>0.0</td>\n",
       "      <td>0.0</td>\n",
       "      <td>0.0</td>\n",
       "      <td>0.0</td>\n",
       "      <td>0.0</td>\n",
       "      <td>0.0</td>\n",
       "      <td>0.0</td>\n",
       "      <td>0.0</td>\n",
       "    </tr>\n",
       "    <tr>\n",
       "      <td>3</td>\n",
       "      <td>38</td>\n",
       "      <td>0</td>\n",
       "      <td>21</td>\n",
       "      <td>70</td>\n",
       "      <td>0</td>\n",
       "      <td>0</td>\n",
       "      <td>91</td>\n",
       "      <td>0.230769</td>\n",
       "      <td>0.769231</td>\n",
       "      <td>0.000000</td>\n",
       "      <td>...</td>\n",
       "      <td>0.0</td>\n",
       "      <td>0.0</td>\n",
       "      <td>0.0</td>\n",
       "      <td>0.0</td>\n",
       "      <td>0.0</td>\n",
       "      <td>0.0</td>\n",
       "      <td>0.0</td>\n",
       "      <td>0.0</td>\n",
       "      <td>0.0</td>\n",
       "      <td>0.0</td>\n",
       "    </tr>\n",
       "    <tr>\n",
       "      <td>4</td>\n",
       "      <td>56</td>\n",
       "      <td>0</td>\n",
       "      <td>42</td>\n",
       "      <td>108</td>\n",
       "      <td>0</td>\n",
       "      <td>1</td>\n",
       "      <td>151</td>\n",
       "      <td>0.278146</td>\n",
       "      <td>0.715232</td>\n",
       "      <td>0.000000</td>\n",
       "      <td>...</td>\n",
       "      <td>0.0</td>\n",
       "      <td>0.0</td>\n",
       "      <td>0.0</td>\n",
       "      <td>0.0</td>\n",
       "      <td>0.0</td>\n",
       "      <td>0.0</td>\n",
       "      <td>0.0</td>\n",
       "      <td>0.0</td>\n",
       "      <td>0.0</td>\n",
       "      <td>0.0</td>\n",
       "    </tr>\n",
       "  </tbody>\n",
       "</table>\n",
       "<p>5 rows × 524 columns</p>\n",
       "</div>"
      ],
      "text/plain": [
       "   cluster  is_affluent   2    1  3  4  total_x  2_fraction  1_fraction  \\\n",
       "0       12            0  76  129  3  1      209    0.363636    0.617225   \n",
       "1       62            0  72   69  3  0      144    0.500000    0.479167   \n",
       "2       42            0  70   74  1  0      145    0.482759    0.510345   \n",
       "3       38            0  21   70  0  0       91    0.230769    0.769231   \n",
       "4       56            0  42  108  0  1      151    0.278146    0.715232   \n",
       "\n",
       "   3_fraction  ...  giftshops_fraction  spas_fraction  singaporean_fraction  \\\n",
       "0    0.014354  ...                 0.0            0.0                   0.0   \n",
       "1    0.020833  ...                 0.0            0.0                   0.0   \n",
       "2    0.006897  ...                 0.0            0.0                   0.0   \n",
       "3    0.000000  ...                 0.0            0.0                   0.0   \n",
       "4    0.000000  ...                 0.0            0.0                   0.0   \n",
       "\n",
       "   diyfood_fraction  kids_activities_fraction  shopping_fraction  \\\n",
       "0               0.0                       0.0                0.0   \n",
       "1               0.0                       0.0                0.0   \n",
       "2               0.0                       0.0                0.0   \n",
       "3               0.0                       0.0                0.0   \n",
       "4               0.0                       0.0                0.0   \n",
       "\n",
       "   cookingschools_fraction  burmese_fraction  sicilian_fraction  \\\n",
       "0                      0.0               0.0                0.0   \n",
       "1                      0.0               0.0                0.0   \n",
       "2                      0.0               0.0                0.0   \n",
       "3                      0.0               0.0                0.0   \n",
       "4                      0.0               0.0                0.0   \n",
       "\n",
       "   farmersmarket_fraction  \n",
       "0                     0.0  \n",
       "1                     0.0  \n",
       "2                     0.0  \n",
       "3                     0.0  \n",
       "4                     0.0  \n",
       "\n",
       "[5 rows x 524 columns]"
      ]
     },
     "execution_count": 9,
     "metadata": {},
     "output_type": "execute_result"
    }
   ],
   "source": [
    "# We view the dataframe with all count and fractional columns. (We will remove some of these soon)\n",
    "cluster_fraction.head()"
   ]
  },
  {
   "cell_type": "markdown",
   "metadata": {},
   "source": [
    "In the table above, we see a full dataframe with all the newly engineered fraction columns. We will add two more, based on grouping together the 1 & 2 dollar sign businesses, and 3 & 4 dollar sign businesses. Per the Exploratory Data Analysis we performed previously, this may help as an indicator of affluence."
   ]
  },
  {
   "cell_type": "code",
   "execution_count": 10,
   "metadata": {},
   "outputs": [],
   "source": [
    "# Adding two engineered columns based on dollar sign groupings\n",
    "cluster_fraction['1_2_fraction'] = cluster_fraction['1_fraction'] + cluster_fraction['2_fraction']\n",
    "cluster_fraction['3_4_fraction'] = cluster_fraction['3_fraction'] + cluster_fraction['4_fraction']"
   ]
  },
  {
   "cell_type": "markdown",
   "metadata": {},
   "source": [
    "Next, we will utilize list comprehension to remove all of the original 'count' columns from our dataframe. "
   ]
  },
  {
   "cell_type": "code",
   "execution_count": 11,
   "metadata": {},
   "outputs": [],
   "source": [
    "# Remove columns that are based on count, vs fraction\n",
    "\n",
    "cols = [c for c in cluster_fraction.columns if str(c).endswith('fraction')] # Keep columns with '_fraction'\n",
    "cols.append('is_affluent') # ensure that our target 'is_affluent' category is maintained      "
   ]
  },
  {
   "cell_type": "code",
   "execution_count": 12,
   "metadata": {},
   "outputs": [],
   "source": [
    "cluster_fraction = cluster_fraction[cols] # redefine our dataframe with the selected columns"
   ]
  },
  {
   "cell_type": "code",
   "execution_count": 13,
   "metadata": {},
   "outputs": [
    {
     "data": {
      "text/html": [
       "<div>\n",
       "<style scoped>\n",
       "    .dataframe tbody tr th:only-of-type {\n",
       "        vertical-align: middle;\n",
       "    }\n",
       "\n",
       "    .dataframe tbody tr th {\n",
       "        vertical-align: top;\n",
       "    }\n",
       "\n",
       "    .dataframe thead th {\n",
       "        text-align: right;\n",
       "    }\n",
       "</style>\n",
       "<table border=\"1\" class=\"dataframe\">\n",
       "  <thead>\n",
       "    <tr style=\"text-align: right;\">\n",
       "      <th></th>\n",
       "      <th>2_fraction</th>\n",
       "      <th>1_fraction</th>\n",
       "      <th>3_fraction</th>\n",
       "      <th>4_fraction</th>\n",
       "      <th>vietnamese_fraction</th>\n",
       "      <th>italian_fraction</th>\n",
       "      <th>tradamerican_fraction</th>\n",
       "      <th>sportsbars_fraction</th>\n",
       "      <th>desserts_fraction</th>\n",
       "      <th>mexican_fraction</th>\n",
       "      <th>...</th>\n",
       "      <th>diyfood_fraction</th>\n",
       "      <th>kids_activities_fraction</th>\n",
       "      <th>shopping_fraction</th>\n",
       "      <th>cookingschools_fraction</th>\n",
       "      <th>burmese_fraction</th>\n",
       "      <th>sicilian_fraction</th>\n",
       "      <th>farmersmarket_fraction</th>\n",
       "      <th>1_2_fraction</th>\n",
       "      <th>3_4_fraction</th>\n",
       "      <th>is_affluent</th>\n",
       "    </tr>\n",
       "  </thead>\n",
       "  <tbody>\n",
       "    <tr>\n",
       "      <td>0</td>\n",
       "      <td>0.363636</td>\n",
       "      <td>0.617225</td>\n",
       "      <td>0.014354</td>\n",
       "      <td>0.004785</td>\n",
       "      <td>0.004785</td>\n",
       "      <td>0.081340</td>\n",
       "      <td>0.019139</td>\n",
       "      <td>0.014354</td>\n",
       "      <td>0.000000</td>\n",
       "      <td>0.071770</td>\n",
       "      <td>...</td>\n",
       "      <td>0.0</td>\n",
       "      <td>0.0</td>\n",
       "      <td>0.0</td>\n",
       "      <td>0.0</td>\n",
       "      <td>0.0</td>\n",
       "      <td>0.0</td>\n",
       "      <td>0.0</td>\n",
       "      <td>0.980861</td>\n",
       "      <td>0.019139</td>\n",
       "      <td>0</td>\n",
       "    </tr>\n",
       "    <tr>\n",
       "      <td>1</td>\n",
       "      <td>0.500000</td>\n",
       "      <td>0.479167</td>\n",
       "      <td>0.020833</td>\n",
       "      <td>0.000000</td>\n",
       "      <td>0.000000</td>\n",
       "      <td>0.013889</td>\n",
       "      <td>0.034722</td>\n",
       "      <td>0.020833</td>\n",
       "      <td>0.020833</td>\n",
       "      <td>0.048611</td>\n",
       "      <td>...</td>\n",
       "      <td>0.0</td>\n",
       "      <td>0.0</td>\n",
       "      <td>0.0</td>\n",
       "      <td>0.0</td>\n",
       "      <td>0.0</td>\n",
       "      <td>0.0</td>\n",
       "      <td>0.0</td>\n",
       "      <td>0.979167</td>\n",
       "      <td>0.020833</td>\n",
       "      <td>0</td>\n",
       "    </tr>\n",
       "    <tr>\n",
       "      <td>2</td>\n",
       "      <td>0.482759</td>\n",
       "      <td>0.510345</td>\n",
       "      <td>0.006897</td>\n",
       "      <td>0.000000</td>\n",
       "      <td>0.000000</td>\n",
       "      <td>0.013793</td>\n",
       "      <td>0.013793</td>\n",
       "      <td>0.013793</td>\n",
       "      <td>0.020690</td>\n",
       "      <td>0.089655</td>\n",
       "      <td>...</td>\n",
       "      <td>0.0</td>\n",
       "      <td>0.0</td>\n",
       "      <td>0.0</td>\n",
       "      <td>0.0</td>\n",
       "      <td>0.0</td>\n",
       "      <td>0.0</td>\n",
       "      <td>0.0</td>\n",
       "      <td>0.993103</td>\n",
       "      <td>0.006897</td>\n",
       "      <td>0</td>\n",
       "    </tr>\n",
       "    <tr>\n",
       "      <td>3</td>\n",
       "      <td>0.230769</td>\n",
       "      <td>0.769231</td>\n",
       "      <td>0.000000</td>\n",
       "      <td>0.000000</td>\n",
       "      <td>0.000000</td>\n",
       "      <td>0.000000</td>\n",
       "      <td>0.000000</td>\n",
       "      <td>0.000000</td>\n",
       "      <td>0.000000</td>\n",
       "      <td>0.065934</td>\n",
       "      <td>...</td>\n",
       "      <td>0.0</td>\n",
       "      <td>0.0</td>\n",
       "      <td>0.0</td>\n",
       "      <td>0.0</td>\n",
       "      <td>0.0</td>\n",
       "      <td>0.0</td>\n",
       "      <td>0.0</td>\n",
       "      <td>1.000000</td>\n",
       "      <td>0.000000</td>\n",
       "      <td>0</td>\n",
       "    </tr>\n",
       "    <tr>\n",
       "      <td>4</td>\n",
       "      <td>0.278146</td>\n",
       "      <td>0.715232</td>\n",
       "      <td>0.000000</td>\n",
       "      <td>0.006623</td>\n",
       "      <td>0.000000</td>\n",
       "      <td>0.013245</td>\n",
       "      <td>0.013245</td>\n",
       "      <td>0.006623</td>\n",
       "      <td>0.000000</td>\n",
       "      <td>0.052980</td>\n",
       "      <td>...</td>\n",
       "      <td>0.0</td>\n",
       "      <td>0.0</td>\n",
       "      <td>0.0</td>\n",
       "      <td>0.0</td>\n",
       "      <td>0.0</td>\n",
       "      <td>0.0</td>\n",
       "      <td>0.0</td>\n",
       "      <td>0.993377</td>\n",
       "      <td>0.006623</td>\n",
       "      <td>0</td>\n",
       "    </tr>\n",
       "  </tbody>\n",
       "</table>\n",
       "<p>5 rows × 263 columns</p>\n",
       "</div>"
      ],
      "text/plain": [
       "   2_fraction  1_fraction  3_fraction  4_fraction  vietnamese_fraction  \\\n",
       "0    0.363636    0.617225    0.014354    0.004785             0.004785   \n",
       "1    0.500000    0.479167    0.020833    0.000000             0.000000   \n",
       "2    0.482759    0.510345    0.006897    0.000000             0.000000   \n",
       "3    0.230769    0.769231    0.000000    0.000000             0.000000   \n",
       "4    0.278146    0.715232    0.000000    0.006623             0.000000   \n",
       "\n",
       "   italian_fraction  tradamerican_fraction  sportsbars_fraction  \\\n",
       "0          0.081340               0.019139             0.014354   \n",
       "1          0.013889               0.034722             0.020833   \n",
       "2          0.013793               0.013793             0.013793   \n",
       "3          0.000000               0.000000             0.000000   \n",
       "4          0.013245               0.013245             0.006623   \n",
       "\n",
       "   desserts_fraction  mexican_fraction  ...  diyfood_fraction  \\\n",
       "0           0.000000          0.071770  ...               0.0   \n",
       "1           0.020833          0.048611  ...               0.0   \n",
       "2           0.020690          0.089655  ...               0.0   \n",
       "3           0.000000          0.065934  ...               0.0   \n",
       "4           0.000000          0.052980  ...               0.0   \n",
       "\n",
       "   kids_activities_fraction  shopping_fraction  cookingschools_fraction  \\\n",
       "0                       0.0                0.0                      0.0   \n",
       "1                       0.0                0.0                      0.0   \n",
       "2                       0.0                0.0                      0.0   \n",
       "3                       0.0                0.0                      0.0   \n",
       "4                       0.0                0.0                      0.0   \n",
       "\n",
       "   burmese_fraction  sicilian_fraction  farmersmarket_fraction  1_2_fraction  \\\n",
       "0               0.0                0.0                     0.0      0.980861   \n",
       "1               0.0                0.0                     0.0      0.979167   \n",
       "2               0.0                0.0                     0.0      0.993103   \n",
       "3               0.0                0.0                     0.0      1.000000   \n",
       "4               0.0                0.0                     0.0      0.993377   \n",
       "\n",
       "   3_4_fraction  is_affluent  \n",
       "0      0.019139            0  \n",
       "1      0.020833            0  \n",
       "2      0.006897            0  \n",
       "3      0.000000            0  \n",
       "4      0.006623            0  \n",
       "\n",
       "[5 rows x 263 columns]"
      ]
     },
     "execution_count": 13,
     "metadata": {},
     "output_type": "execute_result"
    }
   ],
   "source": [
    "# This our final goal dataframe - with all the fractional categories & the affluence (target) column\n",
    "cluster_fraction.head()"
   ]
  },
  {
   "cell_type": "markdown",
   "metadata": {},
   "source": [
    "Above is our final dataframe, representing the ratio of business types for each cluster.  We will carry this forward to modeling. We will be exploring the relationship between the relative presence of business types as a prediction for affluence."
   ]
  },
  {
   "cell_type": "markdown",
   "metadata": {},
   "source": [
    "# Model Preparation"
   ]
  },
  {
   "cell_type": "code",
   "execution_count": 14,
   "metadata": {},
   "outputs": [],
   "source": [
    "target = 'is_affluent'\n",
    "X = cluster_fraction.drop(columns=target)\n",
    "y = cluster_fraction[target]"
   ]
  },
  {
   "cell_type": "markdown",
   "metadata": {},
   "source": [
    "# Train, Test Split\n",
    "\n",
    "This is a small data set (only 80 observations). We will use 25% of the data set for testing."
   ]
  },
  {
   "cell_type": "code",
   "execution_count": 15,
   "metadata": {},
   "outputs": [],
   "source": [
    "X_train, X_test, y_train, y_test = train_test_split(X, y, random_state=42, test_size=0.25, stratify=y)"
   ]
  },
  {
   "cell_type": "markdown",
   "metadata": {},
   "source": [
    "We utilize 'stratify' to ensure the train/test data sets have even distributions of classes. This is important due to the small size of the data set.\n",
    "\n",
    "As a reminder, our positive class is 1 ('is affluent) while our negative class is 0 ('not affluent')."
   ]
  },
  {
   "cell_type": "code",
   "execution_count": 16,
   "metadata": {},
   "outputs": [
    {
     "data": {
      "text/plain": [
       "0.5316455696202531"
      ]
     },
     "execution_count": 16,
     "metadata": {},
     "output_type": "execute_result"
    }
   ],
   "source": [
    "# We check the original distribution between the positive and negative class\n",
    "\n",
    "y.value_counts(normalize=True)[0]"
   ]
  },
  {
   "cell_type": "code",
   "execution_count": 17,
   "metadata": {},
   "outputs": [
    {
     "data": {
      "text/plain": [
       "0    0.525424\n",
       "1    0.474576\n",
       "Name: is_affluent, dtype: float64"
      ]
     },
     "execution_count": 17,
     "metadata": {},
     "output_type": "execute_result"
    }
   ],
   "source": [
    "# We also check the distribution for y_train\n",
    "y_train.value_counts(normalize = True)"
   ]
  },
  {
   "cell_type": "code",
   "execution_count": 18,
   "metadata": {},
   "outputs": [
    {
     "data": {
      "text/plain": [
       "0    0.55\n",
       "1    0.45\n",
       "Name: is_affluent, dtype: float64"
      ]
     },
     "execution_count": 18,
     "metadata": {},
     "output_type": "execute_result"
    }
   ],
   "source": [
    "# We check the distribution for y_test\n",
    "y_test.value_counts(normalize = True)"
   ]
  },
  {
   "cell_type": "markdown",
   "metadata": {},
   "source": [
    "# Modeling"
   ]
  },
  {
   "cell_type": "markdown",
   "metadata": {},
   "source": [
    "- We will first present our baseline model.  \n",
    "- We will then develop several models, evaluating via GridSearch. \n",
    "- Based on the Grid Search's cross validation scores, we will then fine tune the hyper-parameters for each model to achieve the optimal result. "
   ]
  },
  {
   "cell_type": "markdown",
   "metadata": {},
   "source": [
    "## Evaluation Metric: ROC"
   ]
  },
  {
   "cell_type": "markdown",
   "metadata": {},
   "source": [
    "A few notes about our chosen evaluation metric, ROC: \n",
    "\n",
    "- \"ROC (Receiver Operating Characteristic) is a probability curve and AUC represents degree or measure of separability. It tells how well our model is capable of distinguishing between our classes\"[(reference)](https://towardsdatascience.com/understanding-auc-roc-curve-68b2303cc9c5). The higher the ROC, and the better it the two classes: Affluent vs. Not Affluent. The ROC curve is plotted with True Positive Rate on y-axis, against the False Positive Rate on the x-axis.\n",
    "\n",
    "- AUC (Area Under the Curve) measures the entire two-dimensional area underneath the entire ROC curve. The closer AUC to 1, the better the model.\n",
    "\n",
    "- We are choosing the AUC ROC  as our metric, since our aim is to find the optimal model that best separates our Affluence classes."
   ]
  },
  {
   "cell_type": "markdown",
   "metadata": {},
   "source": [
    "##  Baseline Model"
   ]
  },
  {
   "cell_type": "markdown",
   "metadata": {},
   "source": [
    "The baseline score for the ROC curve (our chosen evaluation metric) is 0.5. We will be assessing our model quality against this metric."
   ]
  },
  {
   "cell_type": "markdown",
   "metadata": {},
   "source": [
    "## Modeling Procedure"
   ]
  },
  {
   "cell_type": "markdown",
   "metadata": {},
   "source": [
    "For each of the modeling steps below, we utilize a GridSearch methodology to assist in finding the best fit hyperparameters."
   ]
  },
  {
   "cell_type": "markdown",
   "metadata": {},
   "source": [
    "### Logistic Regression / GridSearch"
   ]
  },
  {
   "cell_type": "code",
   "execution_count": 19,
   "metadata": {},
   "outputs": [],
   "source": [
    "# Setting up the pipeline for Logistic Regression modeling\n",
    "\n",
    "pipe = Pipeline(steps=[ \n",
    "    ('ss', StandardScaler()),\n",
    "    ('lr', LogisticRegression(solver='liblinear'))\n",
    "])\n",
    "\n",
    "pipe_params ={\n",
    "    'lr__C': [.00001, .0001, 0.0005, .001, .01],\n",
    "    'lr__penalty' : ['l2', 'l1']\n",
    "    }\n",
    "\n",
    "gs_lr = GridSearchCV(pipe, \n",
    "                     pipe_params, \n",
    "                     cv=3,\n",
    "                     scoring='roc_auc')\n"
   ]
  },
  {
   "cell_type": "code",
   "execution_count": 20,
   "metadata": {},
   "outputs": [
    {
     "name": "stderr",
     "output_type": "stream",
     "text": [
      "/opt/anaconda3/lib/python3.7/site-packages/sklearn/model_selection/_search.py:814: DeprecationWarning: The default of the `iid` parameter will change from True to False in version 0.22 and will be removed in 0.24. This will change numeric results when test-set sizes are unequal.\n",
      "  DeprecationWarning)\n"
     ]
    }
   ],
   "source": [
    "gs_lr.fit(X_train, y_train);"
   ]
  },
  {
   "cell_type": "code",
   "execution_count": 21,
   "metadata": {},
   "outputs": [
    {
     "data": {
      "text/plain": [
       "{'lr__C': 0.0005, 'lr__penalty': 'l2'}"
      ]
     },
     "execution_count": 21,
     "metadata": {},
     "output_type": "execute_result"
    }
   ],
   "source": [
    "# Check the optimal params\n",
    "gs_lr.best_params_"
   ]
  },
  {
   "cell_type": "code",
   "execution_count": 22,
   "metadata": {},
   "outputs": [
    {
     "data": {
      "text/plain": [
       "Pipeline(memory=None,\n",
       "         steps=[('ss',\n",
       "                 StandardScaler(copy=True, with_mean=True, with_std=True)),\n",
       "                ('lr',\n",
       "                 LogisticRegression(C=0.0005, class_weight=None, dual=False,\n",
       "                                    fit_intercept=True, intercept_scaling=1,\n",
       "                                    l1_ratio=None, max_iter=100,\n",
       "                                    multi_class='warn', n_jobs=None,\n",
       "                                    penalty='l2', random_state=None,\n",
       "                                    solver='liblinear', tol=0.0001, verbose=0,\n",
       "                                    warm_start=False))],\n",
       "         verbose=False)"
      ]
     },
     "execution_count": 22,
     "metadata": {},
     "output_type": "execute_result"
    }
   ],
   "source": [
    "gs_lr.best_estimator_"
   ]
  },
  {
   "cell_type": "code",
   "execution_count": 23,
   "metadata": {},
   "outputs": [
    {
     "data": {
      "text/plain": [
       "0.9746543778801844"
      ]
     },
     "execution_count": 23,
     "metadata": {},
     "output_type": "execute_result"
    }
   ],
   "source": [
    "# Train score\n",
    "gs_lr.score(X_train, y_train)"
   ]
  },
  {
   "cell_type": "code",
   "execution_count": 24,
   "metadata": {},
   "outputs": [
    {
     "data": {
      "text/plain": [
       "0.8686868686868686"
      ]
     },
     "execution_count": 24,
     "metadata": {},
     "output_type": "execute_result"
    }
   ],
   "source": [
    "# Test score\n",
    "gs_lr.score(X_test, y_test)"
   ]
  },
  {
   "cell_type": "code",
   "execution_count": 25,
   "metadata": {},
   "outputs": [
    {
     "data": {
      "text/plain": [
       "0.7934981684981685"
      ]
     },
     "execution_count": 25,
     "metadata": {},
     "output_type": "execute_result"
    }
   ],
   "source": [
    "# Cross val score on the whole dataset \n",
    "cv_lr = cross_val_score(gs_lr.best_estimator_, X, y, scoring='roc_auc', cv=3).mean()\n",
    "cv_lr"
   ]
  },
  {
   "cell_type": "markdown",
   "metadata": {},
   "source": [
    "Note that the small size of our data set makes cross-validation difficult. We are using cv = 3 (vs cv = 5) to minimize the issues, but in general, it is good to keep in mind that the cross-validation scores may not be valid across the board."
   ]
  },
  {
   "cell_type": "code",
   "execution_count": 26,
   "metadata": {},
   "outputs": [],
   "source": [
    "# extract the coefficients from our Logistic Regression model\n",
    "coef_lr_gs = np.array((gs_lr.best_estimator_.named_steps['lr']).coef_).tolist()[0]"
   ]
  },
  {
   "cell_type": "code",
   "execution_count": 27,
   "metadata": {},
   "outputs": [],
   "source": [
    "# extract the categories for our coefficients\n",
    "names = X_train.columns"
   ]
  },
  {
   "cell_type": "code",
   "execution_count": 28,
   "metadata": {},
   "outputs": [],
   "source": [
    "# Zip the coefficients and column names together\n",
    "gs_lr_betas = list(zip(names, coef_lr_gs))"
   ]
  },
  {
   "cell_type": "code",
   "execution_count": 29,
   "metadata": {},
   "outputs": [],
   "source": [
    "# Create final dataframe of words with their corresponding coefficients\n",
    "gs_lr_coefs = pd.DataFrame(gs_lr_betas).rename(columns = {0: 'word', 1: 'coef'}).sort_values(by = 'coef', ascending = False)"
   ]
  },
  {
   "cell_type": "code",
   "execution_count": 30,
   "metadata": {},
   "outputs": [
    {
     "data": {
      "text/html": [
       "<div>\n",
       "<style scoped>\n",
       "    .dataframe tbody tr th:only-of-type {\n",
       "        vertical-align: middle;\n",
       "    }\n",
       "\n",
       "    .dataframe tbody tr th {\n",
       "        vertical-align: top;\n",
       "    }\n",
       "\n",
       "    .dataframe thead th {\n",
       "        text-align: right;\n",
       "    }\n",
       "</style>\n",
       "<table border=\"1\" class=\"dataframe\">\n",
       "  <thead>\n",
       "    <tr style=\"text-align: right;\">\n",
       "      <th></th>\n",
       "      <th>word</th>\n",
       "      <th>coef</th>\n",
       "    </tr>\n",
       "  </thead>\n",
       "  <tbody>\n",
       "    <tr>\n",
       "      <td>80</td>\n",
       "      <td>french_fraction</td>\n",
       "      <td>0.008075</td>\n",
       "    </tr>\n",
       "    <tr>\n",
       "      <td>102</td>\n",
       "      <td>cocktailbars_fraction</td>\n",
       "      <td>0.006967</td>\n",
       "    </tr>\n",
       "    <tr>\n",
       "      <td>107</td>\n",
       "      <td>ramen_fraction</td>\n",
       "      <td>0.006921</td>\n",
       "    </tr>\n",
       "    <tr>\n",
       "      <td>153</td>\n",
       "      <td>beerbar_fraction</td>\n",
       "      <td>0.006476</td>\n",
       "    </tr>\n",
       "    <tr>\n",
       "      <td>36</td>\n",
       "      <td>cafes_fraction</td>\n",
       "      <td>0.006452</td>\n",
       "    </tr>\n",
       "    <tr>\n",
       "      <td>10</td>\n",
       "      <td>coffee_fraction</td>\n",
       "      <td>0.005964</td>\n",
       "    </tr>\n",
       "    <tr>\n",
       "      <td>33</td>\n",
       "      <td>wine_bars_fraction</td>\n",
       "      <td>0.005906</td>\n",
       "    </tr>\n",
       "    <tr>\n",
       "      <td>84</td>\n",
       "      <td>venues_fraction</td>\n",
       "      <td>0.005838</td>\n",
       "    </tr>\n",
       "    <tr>\n",
       "      <td>156</td>\n",
       "      <td>musicvenues_fraction</td>\n",
       "      <td>0.005832</td>\n",
       "    </tr>\n",
       "    <tr>\n",
       "      <td>65</td>\n",
       "      <td>vegetarian_fraction</td>\n",
       "      <td>0.005507</td>\n",
       "    </tr>\n",
       "  </tbody>\n",
       "</table>\n",
       "</div>"
      ],
      "text/plain": [
       "                      word      coef\n",
       "80         french_fraction  0.008075\n",
       "102  cocktailbars_fraction  0.006967\n",
       "107         ramen_fraction  0.006921\n",
       "153       beerbar_fraction  0.006476\n",
       "36          cafes_fraction  0.006452\n",
       "10         coffee_fraction  0.005964\n",
       "33      wine_bars_fraction  0.005906\n",
       "84         venues_fraction  0.005838\n",
       "156   musicvenues_fraction  0.005832\n",
       "65     vegetarian_fraction  0.005507"
      ]
     },
     "execution_count": 30,
     "metadata": {},
     "output_type": "execute_result"
    }
   ],
   "source": [
    "gs_lr_coefs[gs_lr_coefs['coef'] != 0].head(10)"
   ]
  },
  {
   "cell_type": "markdown",
   "metadata": {},
   "source": [
    "Per our logistic model, the above features are the strongest predictors for the positive class ('is affluent'). The top predictors of affluence are french restaurants, cocktail bars & ramen shops. Cafes and Coffee shops also have a strong presence, along with wine and beer bars. This is intuitively sensible, as these types of business would typically be frequented by people with extra expendible income. People who are affluent would be more able to sustain upscale alcohol establishments (cocktail and wine bars) and cafes in their neighborhood.\n",
    "\n",
    "The top predictor for affluence is French restaurants, with a coefficient of .008075.  For a one-unit (aka percentage) increase in the relative French restaurants among the businesses in an area, the area is e^(0.008075) times as likely to be affluent. \n"
   ]
  },
  {
   "cell_type": "code",
   "execution_count": 31,
   "metadata": {},
   "outputs": [
    {
     "data": {
      "text/html": [
       "<div>\n",
       "<style scoped>\n",
       "    .dataframe tbody tr th:only-of-type {\n",
       "        vertical-align: middle;\n",
       "    }\n",
       "\n",
       "    .dataframe tbody tr th {\n",
       "        vertical-align: top;\n",
       "    }\n",
       "\n",
       "    .dataframe thead th {\n",
       "        text-align: right;\n",
       "    }\n",
       "</style>\n",
       "<table border=\"1\" class=\"dataframe\">\n",
       "  <thead>\n",
       "    <tr style=\"text-align: right;\">\n",
       "      <th></th>\n",
       "      <th>word</th>\n",
       "      <th>coef</th>\n",
       "    </tr>\n",
       "  </thead>\n",
       "  <tbody>\n",
       "    <tr>\n",
       "      <td>15</td>\n",
       "      <td>pizza_fraction</td>\n",
       "      <td>-0.006340</td>\n",
       "    </tr>\n",
       "    <tr>\n",
       "      <td>55</td>\n",
       "      <td>hotdogs_fraction</td>\n",
       "      <td>-0.005658</td>\n",
       "    </tr>\n",
       "    <tr>\n",
       "      <td>56</td>\n",
       "      <td>donuts_fraction</td>\n",
       "      <td>-0.005330</td>\n",
       "    </tr>\n",
       "    <tr>\n",
       "      <td>1</td>\n",
       "      <td>1_fraction</td>\n",
       "      <td>-0.005025</td>\n",
       "    </tr>\n",
       "    <tr>\n",
       "      <td>29</td>\n",
       "      <td>diners_fraction</td>\n",
       "      <td>-0.004379</td>\n",
       "    </tr>\n",
       "    <tr>\n",
       "      <td>13</td>\n",
       "      <td>comfortfood_fraction</td>\n",
       "      <td>-0.004186</td>\n",
       "    </tr>\n",
       "  </tbody>\n",
       "</table>\n",
       "</div>"
      ],
      "text/plain": [
       "                    word      coef\n",
       "15        pizza_fraction -0.006340\n",
       "55      hotdogs_fraction -0.005658\n",
       "56       donuts_fraction -0.005330\n",
       "1             1_fraction -0.005025\n",
       "29       diners_fraction -0.004379\n",
       "13  comfortfood_fraction -0.004186"
      ]
     },
     "execution_count": 31,
     "metadata": {},
     "output_type": "execute_result"
    }
   ],
   "source": [
    "# Looking at the 'top' predictors of the Negative class\n",
    "gs_lr_coefs[gs_lr_coefs['coef'] != 0].tail(6).sort_values('coef', ascending = True) "
   ]
  },
  {
   "cell_type": "markdown",
   "metadata": {},
   "source": [
    "Here we see the strongest predictors for the negative class ('not affluent'). The top predictors of 'not affluent' areas are the fraction of pizza restaurants, hot dog shops, donut shops & 1-dollar sign businesses in general. This is intuitively sensible as they provide quick and inexpensive food options for residents of the area. The percentage of 1-dollar sign business is particularly intuitively relevant as a predictor of a non-affluent neighborhood.\n",
    "\n",
    "The top predictor of a non-affluent neighborhood is 'Pizza' restaurants, with a coefficient of -0.00634. For a one-unit (aka percentage) increase in the relative Pizza restaurants among the businesses in an area, the area is e^(-.00634) times as likely not to be affluent. "
   ]
  },
  {
   "cell_type": "markdown",
   "metadata": {},
   "source": [
    "### KNN modeling / GridSearch"
   ]
  },
  {
   "cell_type": "code",
   "execution_count": 32,
   "metadata": {},
   "outputs": [],
   "source": [
    "# Setting up the pipeline for K-Nearest Neighbors Grid Search and modeling\n",
    "pipe_knn = Pipeline(steps=[\n",
    "    ('ss', StandardScaler()),\n",
    "    ('knn', KNeighborsClassifier())\n",
    "])\n",
    "\n",
    "pipe_params_knn ={\n",
    "    'knn__n_neighbors' : [5, 10, 15, 20]\n",
    "    \n",
    "}\n",
    "\n",
    "gs_knn = GridSearchCV(pipe_knn, \n",
    "                      pipe_params_knn, \n",
    "                      cv=3,\n",
    "                      scoring='roc_auc')"
   ]
  },
  {
   "cell_type": "code",
   "execution_count": 33,
   "metadata": {},
   "outputs": [
    {
     "name": "stderr",
     "output_type": "stream",
     "text": [
      "/opt/anaconda3/lib/python3.7/site-packages/sklearn/model_selection/_search.py:814: DeprecationWarning: The default of the `iid` parameter will change from True to False in version 0.22 and will be removed in 0.24. This will change numeric results when test-set sizes are unequal.\n",
      "  DeprecationWarning)\n"
     ]
    }
   ],
   "source": [
    "# Running the KNN model\n",
    "gs_knn.fit(X_train, y_train);"
   ]
  },
  {
   "cell_type": "code",
   "execution_count": 34,
   "metadata": {},
   "outputs": [
    {
     "data": {
      "text/plain": [
       "{'knn__n_neighbors': 15}"
      ]
     },
     "execution_count": 34,
     "metadata": {},
     "output_type": "execute_result"
    }
   ],
   "source": [
    "# Check the optimal parameters\n",
    "gs_knn.best_params_"
   ]
  },
  {
   "cell_type": "code",
   "execution_count": 35,
   "metadata": {},
   "outputs": [
    {
     "data": {
      "text/plain": [
       "0.9164746543778802"
      ]
     },
     "execution_count": 35,
     "metadata": {},
     "output_type": "execute_result"
    }
   ],
   "source": [
    "# Train score\n",
    "gs_knn.score(X_train, y_train)"
   ]
  },
  {
   "cell_type": "code",
   "execution_count": 36,
   "metadata": {},
   "outputs": [
    {
     "data": {
      "text/plain": [
       "0.8636363636363636"
      ]
     },
     "execution_count": 36,
     "metadata": {},
     "output_type": "execute_result"
    }
   ],
   "source": [
    "# Test score\n",
    "gs_knn.score(X_test, y_test)"
   ]
  },
  {
   "cell_type": "code",
   "execution_count": 37,
   "metadata": {},
   "outputs": [
    {
     "data": {
      "text/plain": [
       "0.7557539682539682"
      ]
     },
     "execution_count": 37,
     "metadata": {},
     "output_type": "execute_result"
    }
   ],
   "source": [
    "# Cross val score on the whole dataset \n",
    "cv_knn = cross_val_score(gs_knn.best_estimator_, X, y, scoring='roc_auc', cv=5).mean()\n",
    "cv_knn"
   ]
  },
  {
   "cell_type": "markdown",
   "metadata": {},
   "source": [
    "For our KNN model, we again see that the cross-validation score is not close to the train/test scores, which is problematic. This is likely due in part to the small size of the data set, which makes statistical modeling difficult."
   ]
  },
  {
   "cell_type": "markdown",
   "metadata": {},
   "source": [
    "### Decision Tree / GridSearch"
   ]
  },
  {
   "cell_type": "code",
   "execution_count": 38,
   "metadata": {},
   "outputs": [],
   "source": [
    "# Setting up the pipeline for DecisionTree Grid Search and modeling\n",
    "pipe_dt = Pipeline(steps=[\n",
    "    ('ss', StandardScaler()), \n",
    "    ('dt', DecisionTreeClassifier(random_state=42))\n",
    "])\n",
    "\n",
    "pipe_params_dt = {\n",
    "    'dt__max_depth': [3, 4, 5],\n",
    "    'dt__min_samples_split': [2, 3, 4],\n",
    "    'dt__min_samples_leaf': [1, 5, 10]}\n",
    "\n",
    "gs_dt = GridSearchCV(pipe_dt, \n",
    "                     pipe_params_dt, \n",
    "                     cv=3,\n",
    "                     scoring='roc_auc')"
   ]
  },
  {
   "cell_type": "code",
   "execution_count": 39,
   "metadata": {},
   "outputs": [
    {
     "name": "stderr",
     "output_type": "stream",
     "text": [
      "/opt/anaconda3/lib/python3.7/site-packages/sklearn/model_selection/_search.py:814: DeprecationWarning: The default of the `iid` parameter will change from True to False in version 0.22 and will be removed in 0.24. This will change numeric results when test-set sizes are unequal.\n",
      "  DeprecationWarning)\n"
     ]
    }
   ],
   "source": [
    "# Running the Decision Tree fit\n",
    "gs_dt.fit(X_train, y_train);"
   ]
  },
  {
   "cell_type": "code",
   "execution_count": 40,
   "metadata": {},
   "outputs": [
    {
     "data": {
      "text/plain": [
       "{'dt__max_depth': 3, 'dt__min_samples_leaf': 10, 'dt__min_samples_split': 2}"
      ]
     },
     "execution_count": 40,
     "metadata": {},
     "output_type": "execute_result"
    }
   ],
   "source": [
    "# Check the optimal params\n",
    "gs_dt.best_params_"
   ]
  },
  {
   "cell_type": "code",
   "execution_count": 41,
   "metadata": {},
   "outputs": [
    {
     "data": {
      "text/plain": [
       "0.9475806451612903"
      ]
     },
     "execution_count": 41,
     "metadata": {},
     "output_type": "execute_result"
    }
   ],
   "source": [
    "# Train score\n",
    "gs_dt.score(X_train, y_train)"
   ]
  },
  {
   "cell_type": "code",
   "execution_count": 42,
   "metadata": {},
   "outputs": [
    {
     "data": {
      "text/plain": [
       "0.7929292929292929"
      ]
     },
     "execution_count": 42,
     "metadata": {},
     "output_type": "execute_result"
    }
   ],
   "source": [
    "# Test score\n",
    "gs_dt.score(X_test, y_test)"
   ]
  },
  {
   "cell_type": "code",
   "execution_count": 43,
   "metadata": {},
   "outputs": [
    {
     "data": {
      "text/plain": [
       "0.7343559218559218"
      ]
     },
     "execution_count": 43,
     "metadata": {},
     "output_type": "execute_result"
    }
   ],
   "source": [
    "# Cross val score on the whole dataset \n",
    "cv_dt = cross_val_score(gs_dt.best_estimator_, X, y, scoring='roc_auc', cv=3).mean()\n",
    "cv_dt"
   ]
  },
  {
   "cell_type": "markdown",
   "metadata": {},
   "source": [
    "This model is distinctly overfit, as is typical for Decision Tree models. The Training score is 15% higher than the Testing score, which indicates that we've too strongly fit to our training data set. "
   ]
  },
  {
   "cell_type": "markdown",
   "metadata": {},
   "source": [
    "### Bagging Classifier / GridSearch"
   ]
  },
  {
   "cell_type": "code",
   "execution_count": 44,
   "metadata": {},
   "outputs": [],
   "source": [
    "# Setting up the pipeline for Bagging Classifier Grid Search and modeling\n",
    "pipe_bc = Pipeline(steps=[\n",
    "    ('ss', StandardScaler()), \n",
    "    ('bc', BaggingClassifier(random_state=42))\n",
    "])\n",
    "\n",
    "pipe_params_bc = {\n",
    "    'bc__n_estimators': [5, 10, 15],\n",
    "    'bc__max_samples': [1, 2, 3]}\n",
    "\n",
    "gs_bc = GridSearchCV(pipe_bc, \n",
    "                     pipe_params_bc, \n",
    "                     cv=3,\n",
    "                     scoring='roc_auc')"
   ]
  },
  {
   "cell_type": "code",
   "execution_count": 45,
   "metadata": {},
   "outputs": [
    {
     "name": "stderr",
     "output_type": "stream",
     "text": [
      "/opt/anaconda3/lib/python3.7/site-packages/sklearn/model_selection/_search.py:814: DeprecationWarning: The default of the `iid` parameter will change from True to False in version 0.22 and will be removed in 0.24. This will change numeric results when test-set sizes are unequal.\n",
      "  DeprecationWarning)\n"
     ]
    }
   ],
   "source": [
    "# Running the Bagging Classifer model\n",
    "gs_bc.fit(X_train, y_train);"
   ]
  },
  {
   "cell_type": "code",
   "execution_count": 46,
   "metadata": {},
   "outputs": [
    {
     "data": {
      "text/plain": [
       "{'bc__max_samples': 3, 'bc__n_estimators': 15}"
      ]
     },
     "execution_count": 46,
     "metadata": {},
     "output_type": "execute_result"
    }
   ],
   "source": [
    "# Check the optimal hyperparameters\n",
    "gs_bc.best_params_"
   ]
  },
  {
   "cell_type": "code",
   "execution_count": 47,
   "metadata": {},
   "outputs": [
    {
     "data": {
      "text/plain": [
       "0.8513824884792627"
      ]
     },
     "execution_count": 47,
     "metadata": {},
     "output_type": "execute_result"
    }
   ],
   "source": [
    "# Training score\n",
    "gs_bc.score(X_train, y_train)"
   ]
  },
  {
   "cell_type": "code",
   "execution_count": 48,
   "metadata": {
    "scrolled": true
   },
   "outputs": [
    {
     "data": {
      "text/plain": [
       "0.8282828282828282"
      ]
     },
     "execution_count": 48,
     "metadata": {},
     "output_type": "execute_result"
    }
   ],
   "source": [
    "# Testing score\n",
    "gs_bc.score(X_test, y_test)"
   ]
  },
  {
   "cell_type": "code",
   "execution_count": 49,
   "metadata": {},
   "outputs": [
    {
     "data": {
      "text/plain": [
       "0.764957264957265"
      ]
     },
     "execution_count": 49,
     "metadata": {},
     "output_type": "execute_result"
    }
   ],
   "source": [
    "# Cross val score on the whole dataset \n",
    "cv_bc = cross_val_score(gs_bc.best_estimator_, X, y, scoring='roc_auc', cv=3).mean()\n",
    "cv_bc"
   ]
  },
  {
   "cell_type": "markdown",
   "metadata": {},
   "source": [
    "The Bagging Classifer model is giving us the closest Train and Test scores to date. While it isn't the best fit, it is reasonably reproducible. Once again, the Cross Validation score is lower than ideal, possibly due to the small size of the data set."
   ]
  },
  {
   "cell_type": "code",
   "execution_count": null,
   "metadata": {},
   "outputs": [],
   "source": []
  },
  {
   "cell_type": "markdown",
   "metadata": {},
   "source": [
    "### Random Forest / GridSearch"
   ]
  },
  {
   "cell_type": "code",
   "execution_count": 50,
   "metadata": {},
   "outputs": [],
   "source": [
    "pipe_rf = Pipeline(steps=[ \n",
    "    ('ss', StandardScaler()),\n",
    "    ('rf', RandomForestClassifier(random_state=42))\n",
    "])\n",
    "\n",
    "pipe_params_rf = {\n",
    "    'rf__max_depth': [2, 3, 4],\n",
    "    'rf__min_samples_split': [2, 3, 4],\n",
    "    'rf__min_samples_leaf': [5, 8, 10]}\n",
    "\n",
    "\n",
    "gs_rf = GridSearchCV(pipe_rf, \n",
    "                     pipe_params_rf, \n",
    "                     cv=3,\n",
    "                     scoring='roc_auc')"
   ]
  },
  {
   "cell_type": "code",
   "execution_count": 51,
   "metadata": {},
   "outputs": [
    {
     "name": "stderr",
     "output_type": "stream",
     "text": [
      "/opt/anaconda3/lib/python3.7/site-packages/sklearn/model_selection/_search.py:814: DeprecationWarning: The default of the `iid` parameter will change from True to False in version 0.22 and will be removed in 0.24. This will change numeric results when test-set sizes are unequal.\n",
      "  DeprecationWarning)\n"
     ]
    }
   ],
   "source": [
    "gs_rf.fit(X_train, y_train);"
   ]
  },
  {
   "cell_type": "code",
   "execution_count": 52,
   "metadata": {},
   "outputs": [
    {
     "data": {
      "text/plain": [
       "{'rf__max_depth': 2, 'rf__min_samples_leaf': 10, 'rf__min_samples_split': 2}"
      ]
     },
     "execution_count": 52,
     "metadata": {},
     "output_type": "execute_result"
    }
   ],
   "source": [
    "# Check the optimal params\n",
    "gs_rf.best_params_"
   ]
  },
  {
   "cell_type": "code",
   "execution_count": 53,
   "metadata": {},
   "outputs": [
    {
     "data": {
      "text/plain": [
       "0.9262672811059908"
      ]
     },
     "execution_count": 53,
     "metadata": {},
     "output_type": "execute_result"
    }
   ],
   "source": [
    "# Train score\n",
    "gs_rf.score(X_train, y_train)"
   ]
  },
  {
   "cell_type": "code",
   "execution_count": 54,
   "metadata": {},
   "outputs": [
    {
     "data": {
      "text/plain": [
       "0.7777777777777777"
      ]
     },
     "execution_count": 54,
     "metadata": {},
     "output_type": "execute_result"
    }
   ],
   "source": [
    "# Test score\n",
    "gs_rf.score(X_test, y_test)"
   ]
  },
  {
   "cell_type": "code",
   "execution_count": 55,
   "metadata": {},
   "outputs": [
    {
     "data": {
      "text/plain": [
       "0.8260836385836385"
      ]
     },
     "execution_count": 55,
     "metadata": {},
     "output_type": "execute_result"
    }
   ],
   "source": [
    "# Cross val score on the whole dataset \n",
    "cv_rf = cross_val_score(gs_rf.best_estimator_, X, y, scoring='roc_auc', cv=3).mean()\n",
    "cv_rf"
   ]
  },
  {
   "cell_type": "markdown",
   "metadata": {},
   "source": [
    "The Random Forest model is also proving to be considerably overfit, as shown by the significant difference between the train and test scores. "
   ]
  },
  {
   "cell_type": "markdown",
   "metadata": {},
   "source": [
    "## Model Comparison Summary"
   ]
  },
  {
   "cell_type": "markdown",
   "metadata": {},
   "source": [
    "In this brief section, we highlight the final test, train and cross-validation scores for of the fitted models."
   ]
  },
  {
   "cell_type": "markdown",
   "metadata": {},
   "source": [
    "#### Training Scores:"
   ]
  },
  {
   "cell_type": "code",
   "execution_count": 56,
   "metadata": {},
   "outputs": [
    {
     "name": "stdout",
     "output_type": "stream",
     "text": [
      "Training Scores:\n",
      "Logistic Regression:                          0.975\n",
      "K-Nearest Neighbors Classification:           0.916\n",
      "Decision Tree Classification:                 0.948\n",
      "Set of Bagged Decision Trees Classification:  0.851\n",
      "Random Forest Classification:                 0.926\n"
     ]
    }
   ],
   "source": [
    "# Evaluate Training Scores for each Classification Model\n",
    "print('Training Scores:')\n",
    "print(f'Logistic Regression:                          {gs_lr.score(X_train, y_train):.3f}')\n",
    "print(f'K-Nearest Neighbors Classification:           {gs_knn.score(X_train, y_train):.3f}')\n",
    "print(f'Decision Tree Classification:                 {gs_dt.score(X_train, y_train):.3f}')\n",
    "print(f'Set of Bagged Decision Trees Classification:  {gs_bc.score(X_train, y_train):.3f}')\n",
    "print(f'Random Forest Classification:                 {gs_rf.score(X_train, y_train):.3f}')\n"
   ]
  },
  {
   "cell_type": "markdown",
   "metadata": {},
   "source": [
    "Per above, we are observing generally good ROC AUC scores for our training data - each (with the exception of the Bagged Decision Tree) is above 0.9, which is considerably better than our baseline model of 0.5. That said, training data doesn't give us the whole story. We need to check the testing scores to ensure we aren't overfitting."
   ]
  },
  {
   "cell_type": "markdown",
   "metadata": {},
   "source": [
    "#### Testing Scores:"
   ]
  },
  {
   "cell_type": "code",
   "execution_count": 57,
   "metadata": {},
   "outputs": [
    {
     "name": "stdout",
     "output_type": "stream",
     "text": [
      "Testing Scores:\n",
      "Logistic Regression:                          0.869\n",
      "K-Nearest Neighbors Classification:           0.864\n",
      "Decision Tree Classification:                 0.793\n",
      "Set of Bagged Decision Trees Classification:  0.828\n",
      "Random Forest Classification:                 0.778\n"
     ]
    }
   ],
   "source": [
    "# Evaluate Testing Scores for each Classification Model\n",
    "print('Testing Scores:')\n",
    "print(f'Logistic Regression:                          {gs_lr.score(X_test, y_test):.3f}')\n",
    "print(f'K-Nearest Neighbors Classification:           {gs_knn.score(X_test, y_test):.3f}')\n",
    "print(f'Decision Tree Classification:                 {gs_dt.score(X_test, y_test):.3f}')\n",
    "print(f'Set of Bagged Decision Trees Classification:  {gs_bc.score(X_test, y_test):.3f}')\n",
    "print(f'Random Forest Classification:                 {gs_rf.score(X_test, y_test):.3f}')\n"
   ]
  },
  {
   "cell_type": "markdown",
   "metadata": {},
   "source": [
    "Per above, we see that the models are generally overfitting to some extent. The strongest Test Score is observed for the Logistic Regression Model. The least overfit model is the Bagged Decision Tree model."
   ]
  },
  {
   "cell_type": "markdown",
   "metadata": {},
   "source": [
    "#### Cross Validation Scores:"
   ]
  },
  {
   "cell_type": "code",
   "execution_count": 58,
   "metadata": {},
   "outputs": [
    {
     "name": "stdout",
     "output_type": "stream",
     "text": [
      "Training Scores:\n",
      "Logistic Regression:                          0.793\n",
      "K-Nearest Neighbors Classification:           0.756\n",
      "Decision Tree Classification:                 0.734\n",
      "Set of Bagged Decision Trees Classification:  0.765\n",
      "Random Forest Classification:                 0.826\n"
     ]
    }
   ],
   "source": [
    "# Evaluate Cross Validation scores for each Classification Model\n",
    "print('Training Scores:')\n",
    "print(f'Logistic Regression:                          {cv_lr:.3f}')\n",
    "print(f'K-Nearest Neighbors Classification:           {cv_knn:.3f}')\n",
    "print(f'Decision Tree Classification:                 {cv_dt:.3f}')\n",
    "print(f'Set of Bagged Decision Trees Classification:  {cv_bc:.3f}')\n",
    "print(f'Random Forest Classification:                 {cv_rf:.3f}')\n"
   ]
  },
  {
   "cell_type": "markdown",
   "metadata": {},
   "source": [
    "As noted previously, the cross-validation scores are not necessarily reliable with such a small data set. That said, each of them is higher than the baseline ROC AUC score (0.5). At this stage, we see the highest cross-validation score with the Random Forest Classification Model. The next highest score is seen with the Logistic Regression Model."
   ]
  },
  {
   "cell_type": "markdown",
   "metadata": {},
   "source": [
    "## Model Selection"
   ]
  },
  {
   "cell_type": "markdown",
   "metadata": {},
   "source": [
    "At this stage, we will select the Logistic Regression Model. Some reasoning behind our choice:\n",
    "- Despite a moderate level of overfitting, among all of the models, the Logistic Classification had the highest overall combination of training, testing and cross-validation scores. In addition, it is the most interpretable of the models, as shown above, where we are able to extract clear information about the individual coefficients that predict affluence.\n"
   ]
  },
  {
   "cell_type": "markdown",
   "metadata": {},
   "source": [
    "## Model Evaluation"
   ]
  },
  {
   "cell_type": "markdown",
   "metadata": {},
   "source": [
    "In this section, we will fully evaluate the results of our selected model, Logistic Classification. We will review the resulting Confusion Matrix as well as the AUC ROC (Receiver Operating Characteristic) curve."
   ]
  },
  {
   "cell_type": "markdown",
   "metadata": {},
   "source": [
    "### Confusion Matrix"
   ]
  },
  {
   "cell_type": "code",
   "execution_count": 59,
   "metadata": {},
   "outputs": [],
   "source": [
    "# Setting up the predictions for a Confusion Matrix\n",
    "\n",
    "y_pred = gs_lr.predict(X_test)"
   ]
  },
  {
   "cell_type": "code",
   "execution_count": 60,
   "metadata": {},
   "outputs": [],
   "source": [
    "TN, FP, FN, TP = confusion_matrix(y_test, y_pred).ravel()"
   ]
  },
  {
   "cell_type": "code",
   "execution_count": 61,
   "metadata": {},
   "outputs": [],
   "source": [
    "cm = confusion_matrix(y_test, y_pred)"
   ]
  },
  {
   "cell_type": "code",
   "execution_count": 62,
   "metadata": {},
   "outputs": [
    {
     "data": {
      "image/png": "[encoded data removed]",
      "text/plain": [
       "<Figure size 576x576 with 1 Axes>"
      ]
     },
     "metadata": {
      "needs_background": "light"
     },
     "output_type": "display_data"
    }
   ],
   "source": [
    "plt.figure(figsize = (8,8))\n",
    "ax = plt.subplot()\n",
    "sns.heatmap(cm, \n",
    "            annot=True, \n",
    "            ax = ax, \n",
    "            fmt='g', \n",
    "            cbar=False,\n",
    "            cmap=\"Blues\"); #annot=True to annotate cells\n",
    "\n",
    "# labels, title and ticks\n",
    "ax.set_title('Confusion Matrix', size=16)\n",
    "ax.set_xlabel('Predicted', size=14)\n",
    "ax.set_ylabel('True', size=14)\n",
    "ax.xaxis.set_ticklabels(['Negative', 'Positive'])\n",
    "ax.yaxis.set_ticklabels(['Negative', 'Positive']);"
   ]
  },
  {
   "cell_type": "markdown",
   "metadata": {},
   "source": [
    "Via the confusion matrix, we observe that our model is better at predicting the Negative Class than the Postive Class. More work could be done to understand this finding. As a further phase, it may even be worthwhile to explore a separate modeling exercise in which we choose Sensitivity a our metric - where we would focus on maximizing the True Positive rate - and further refining the features that are uniquely predictive of the positive/affluent class."
   ]
  },
  {
   "cell_type": "markdown",
   "metadata": {},
   "source": [
    "### ROC Curve and AUC ROC"
   ]
  },
  {
   "cell_type": "code",
   "execution_count": 63,
   "metadata": {},
   "outputs": [],
   "source": [
    "# We establish the probabilities to be used to create the ROC curve\n",
    "y_pred_proba = gs_lr.predict_proba(X_test)"
   ]
  },
  {
   "cell_type": "code",
   "execution_count": 64,
   "metadata": {},
   "outputs": [
    {
     "data": {
      "image/png": "[encoded data removed]",
      "text/plain": [
       "<Figure size 720x576 with 1 Axes>"
      ]
     },
     "metadata": {
      "needs_background": "light"
     },
     "output_type": "display_data"
    }
   ],
   "source": [
    "# Reference: https://scikit-learn.org/stable/modules/generated/sklearn.metrics.roc_curve.html#sklearn.metrics.roc_curve\n",
    "fpr, tpr, _= roc_curve(y_test, y_pred_proba[:,1])\n",
    "roc_auc = auc(fpr, tpr)\n",
    "\n",
    "\n",
    "# Plot of a ROC curve for a specific class\n",
    "plt.figure(figsize = (10,8))\n",
    "plt.plot(fpr, tpr, label='ROC curve (area = %0.4f)' % roc_auc)\n",
    "plt.plot([0, 1], [0, 1], 'k--')\n",
    "plt.xlim([-0.02, 1.0])\n",
    "plt.ylim([0.0, 1.02])\n",
    "plt.xlabel('False Positive Rate')\n",
    "plt.ylabel('True Positive Rate')\n",
    "plt.title('Receiver Operating Characteristic Curve', fontsize=15)\n",
    "plt.legend(loc=\"lower right\");"
   ]
  },
  {
   "cell_type": "markdown",
   "metadata": {
    "scrolled": true
   },
   "source": [
    "Above is the final ROC curve for our selected model. The AUC ROC is 0.8687, which is considerably better than the baseline (0.5). The ROC 'curve' is distinctly not smooth - it is instead choppy / digitized in appearance. This is a remnant of the small sample size (only 80 observations).\n",
    "\n",
    "Thus, while our Logistic Classification model is reasonably in terms of overall prediction (via the ROC AUC metric), it is clearly not an optimal data set. Thus, we will continue forward with an alternate approach in a secondary modeling method in a separate notebook (Modeling Option 2)."
   ]
  },
  {
   "cell_type": "markdown",
   "metadata": {},
   "source": [
    " ## Additional Modeling / EDA: Principal Component Analysis"
   ]
  },
  {
   "cell_type": "markdown",
   "metadata": {},
   "source": [
    "While not a core part of our original model selection process, due to the dimensions of our present data set (80 observations, with ~260 features), we have decided to show an initial exploration of Principal Component Analysis"
   ]
  },
  {
   "cell_type": "code",
   "execution_count": 65,
   "metadata": {},
   "outputs": [],
   "source": [
    "# Scaling our Data\n",
    "ss = StandardScaler()\n",
    "X_train_ss = ss.fit_transform(X_train)\n",
    "X_test_ss = ss.transform(X_test)"
   ]
  },
  {
   "cell_type": "markdown",
   "metadata": {},
   "source": [
    "\n",
    "### Model with Principal Components (keeping 99% of original variance)"
   ]
  },
  {
   "cell_type": "markdown",
   "metadata": {},
   "source": [
    "Below, we establish a Principal Component Analysis model that explains 99% of the original variance"
   ]
  },
  {
   "cell_type": "code",
   "execution_count": 66,
   "metadata": {},
   "outputs": [],
   "source": [
    "# Instantiate PCA\n",
    "pca_99 = PCA(n_components = .99, random_state = RANDOM_STATE)\n",
    "\n",
    "Z_train_99 = pca_99.fit_transform(X_train_ss)\n",
    "Z_test_99  = pca_99.transform(X_test_ss)"
   ]
  },
  {
   "cell_type": "code",
   "execution_count": 67,
   "metadata": {},
   "outputs": [
    {
     "data": {
      "text/html": [
       "<div>\n",
       "<style scoped>\n",
       "    .dataframe tbody tr th:only-of-type {\n",
       "        vertical-align: middle;\n",
       "    }\n",
       "\n",
       "    .dataframe tbody tr th {\n",
       "        vertical-align: top;\n",
       "    }\n",
       "\n",
       "    .dataframe thead th {\n",
       "        text-align: right;\n",
       "    }\n",
       "</style>\n",
       "<table border=\"1\" class=\"dataframe\">\n",
       "  <thead>\n",
       "    <tr style=\"text-align: right;\">\n",
       "      <th></th>\n",
       "      <th>0</th>\n",
       "      <th>1</th>\n",
       "      <th>2</th>\n",
       "      <th>3</th>\n",
       "      <th>4</th>\n",
       "      <th>5</th>\n",
       "      <th>6</th>\n",
       "      <th>7</th>\n",
       "      <th>8</th>\n",
       "      <th>9</th>\n",
       "      <th>...</th>\n",
       "      <th>252</th>\n",
       "      <th>253</th>\n",
       "      <th>254</th>\n",
       "      <th>255</th>\n",
       "      <th>256</th>\n",
       "      <th>257</th>\n",
       "      <th>258</th>\n",
       "      <th>259</th>\n",
       "      <th>260</th>\n",
       "      <th>261</th>\n",
       "    </tr>\n",
       "  </thead>\n",
       "  <tbody>\n",
       "    <tr>\n",
       "      <td>0</td>\n",
       "      <td>1.475178</td>\n",
       "      <td>-0.876865</td>\n",
       "      <td>0.449213</td>\n",
       "      <td>0.328663</td>\n",
       "      <td>0.290355</td>\n",
       "      <td>0.504166</td>\n",
       "      <td>0.151359</td>\n",
       "      <td>0.132822</td>\n",
       "      <td>0.182648</td>\n",
       "      <td>-0.142756</td>\n",
       "      <td>...</td>\n",
       "      <td>0.0</td>\n",
       "      <td>0.0</td>\n",
       "      <td>0.108375</td>\n",
       "      <td>0.071084</td>\n",
       "      <td>-0.010575</td>\n",
       "      <td>0.039766</td>\n",
       "      <td>-0.042691</td>\n",
       "      <td>0.203299</td>\n",
       "      <td>-0.459438</td>\n",
       "      <td>0.459438</td>\n",
       "    </tr>\n",
       "    <tr>\n",
       "      <td>1</td>\n",
       "      <td>-0.876865</td>\n",
       "      <td>1.497365</td>\n",
       "      <td>-0.727887</td>\n",
       "      <td>-0.531564</td>\n",
       "      <td>-0.247526</td>\n",
       "      <td>-0.606476</td>\n",
       "      <td>-0.150629</td>\n",
       "      <td>-0.116068</td>\n",
       "      <td>-0.143836</td>\n",
       "      <td>0.271260</td>\n",
       "      <td>...</td>\n",
       "      <td>0.0</td>\n",
       "      <td>0.0</td>\n",
       "      <td>-0.060441</td>\n",
       "      <td>-0.207805</td>\n",
       "      <td>0.046738</td>\n",
       "      <td>0.014520</td>\n",
       "      <td>0.002130</td>\n",
       "      <td>-0.257032</td>\n",
       "      <td>0.744234</td>\n",
       "      <td>-0.744234</td>\n",
       "    </tr>\n",
       "    <tr>\n",
       "      <td>2</td>\n",
       "      <td>0.449213</td>\n",
       "      <td>-0.727887</td>\n",
       "      <td>1.489310</td>\n",
       "      <td>0.546557</td>\n",
       "      <td>0.092378</td>\n",
       "      <td>0.554359</td>\n",
       "      <td>0.064320</td>\n",
       "      <td>0.036833</td>\n",
       "      <td>0.009215</td>\n",
       "      <td>-0.398291</td>\n",
       "      <td>...</td>\n",
       "      <td>0.0</td>\n",
       "      <td>0.0</td>\n",
       "      <td>-0.044280</td>\n",
       "      <td>0.315067</td>\n",
       "      <td>-0.095217</td>\n",
       "      <td>-0.105688</td>\n",
       "      <td>0.068742</td>\n",
       "      <td>0.261736</td>\n",
       "      <td>-0.937230</td>\n",
       "      <td>0.937230</td>\n",
       "    </tr>\n",
       "    <tr>\n",
       "      <td>3</td>\n",
       "      <td>0.328663</td>\n",
       "      <td>-0.531564</td>\n",
       "      <td>0.546557</td>\n",
       "      <td>1.496548</td>\n",
       "      <td>0.022920</td>\n",
       "      <td>0.373523</td>\n",
       "      <td>0.175563</td>\n",
       "      <td>0.060972</td>\n",
       "      <td>0.078095</td>\n",
       "      <td>-0.219372</td>\n",
       "      <td>...</td>\n",
       "      <td>0.0</td>\n",
       "      <td>0.0</td>\n",
       "      <td>-0.022915</td>\n",
       "      <td>0.421079</td>\n",
       "      <td>-0.042382</td>\n",
       "      <td>-0.048500</td>\n",
       "      <td>0.038614</td>\n",
       "      <td>0.134360</td>\n",
       "      <td>-0.683407</td>\n",
       "      <td>0.683407</td>\n",
       "    </tr>\n",
       "    <tr>\n",
       "      <td>4</td>\n",
       "      <td>0.290355</td>\n",
       "      <td>-0.247526</td>\n",
       "      <td>0.092378</td>\n",
       "      <td>0.022920</td>\n",
       "      <td>1.438178</td>\n",
       "      <td>0.266172</td>\n",
       "      <td>-0.048124</td>\n",
       "      <td>0.000176</td>\n",
       "      <td>0.220794</td>\n",
       "      <td>-0.078044</td>\n",
       "      <td>...</td>\n",
       "      <td>0.0</td>\n",
       "      <td>0.0</td>\n",
       "      <td>0.026819</td>\n",
       "      <td>-0.006591</td>\n",
       "      <td>-0.088048</td>\n",
       "      <td>-0.066924</td>\n",
       "      <td>-0.076931</td>\n",
       "      <td>-0.014719</td>\n",
       "      <td>-0.084486</td>\n",
       "      <td>0.084486</td>\n",
       "    </tr>\n",
       "  </tbody>\n",
       "</table>\n",
       "<p>5 rows × 262 columns</p>\n",
       "</div>"
      ],
      "text/plain": [
       "        0         1         2         3         4         5         6    \\\n",
       "0  1.475178 -0.876865  0.449213  0.328663  0.290355  0.504166  0.151359   \n",
       "1 -0.876865  1.497365 -0.727887 -0.531564 -0.247526 -0.606476 -0.150629   \n",
       "2  0.449213 -0.727887  1.489310  0.546557  0.092378  0.554359  0.064320   \n",
       "3  0.328663 -0.531564  0.546557  1.496548  0.022920  0.373523  0.175563   \n",
       "4  0.290355 -0.247526  0.092378  0.022920  1.438178  0.266172 -0.048124   \n",
       "\n",
       "        7         8         9    ...  252  253       254       255       256  \\\n",
       "0  0.132822  0.182648 -0.142756  ...  0.0  0.0  0.108375  0.071084 -0.010575   \n",
       "1 -0.116068 -0.143836  0.271260  ...  0.0  0.0 -0.060441 -0.207805  0.046738   \n",
       "2  0.036833  0.009215 -0.398291  ...  0.0  0.0 -0.044280  0.315067 -0.095217   \n",
       "3  0.060972  0.078095 -0.219372  ...  0.0  0.0 -0.022915  0.421079 -0.042382   \n",
       "4  0.000176  0.220794 -0.078044  ...  0.0  0.0  0.026819 -0.006591 -0.088048   \n",
       "\n",
       "        257       258       259       260       261  \n",
       "0  0.039766 -0.042691  0.203299 -0.459438  0.459438  \n",
       "1  0.014520  0.002130 -0.257032  0.744234 -0.744234  \n",
       "2 -0.105688  0.068742  0.261736 -0.937230  0.937230  \n",
       "3 -0.048500  0.038614  0.134360 -0.683407  0.683407  \n",
       "4 -0.066924 -0.076931 -0.014719 -0.084486  0.084486  \n",
       "\n",
       "[5 rows x 262 columns]"
      ]
     },
     "execution_count": 67,
     "metadata": {},
     "output_type": "execute_result"
    }
   ],
   "source": [
    "# creation of a a covariance DataFrame\n",
    "pd.DataFrame(pca_99.get_covariance()).head()"
   ]
  },
  {
   "cell_type": "markdown",
   "metadata": {},
   "source": [
    "Eigenvalues denote the relative importance of the associated principal component.\n",
    "\n",
    "The explained variance for each principal component is \n",
    "$$\\frac{\\lambda_i}{\\lambda_{total}}$$\n"
   ]
  },
  {
   "cell_type": "code",
   "execution_count": 68,
   "metadata": {},
   "outputs": [
    {
     "data": {
      "text/html": [
       "<div>\n",
       "<style scoped>\n",
       "    .dataframe tbody tr th:only-of-type {\n",
       "        vertical-align: middle;\n",
       "    }\n",
       "\n",
       "    .dataframe tbody tr th {\n",
       "        vertical-align: top;\n",
       "    }\n",
       "\n",
       "    .dataframe thead th {\n",
       "        text-align: right;\n",
       "    }\n",
       "</style>\n",
       "<table border=\"1\" class=\"dataframe\">\n",
       "  <thead>\n",
       "    <tr style=\"text-align: right;\">\n",
       "      <th></th>\n",
       "      <th>explained_variance</th>\n",
       "      <th>cumulative_exp_var</th>\n",
       "    </tr>\n",
       "  </thead>\n",
       "  <tbody>\n",
       "    <tr>\n",
       "      <td>PC1</td>\n",
       "      <td>0.087318</td>\n",
       "      <td>0.087318</td>\n",
       "    </tr>\n",
       "    <tr>\n",
       "      <td>PC2</td>\n",
       "      <td>0.047903</td>\n",
       "      <td>0.135222</td>\n",
       "    </tr>\n",
       "    <tr>\n",
       "      <td>PC3</td>\n",
       "      <td>0.041967</td>\n",
       "      <td>0.177188</td>\n",
       "    </tr>\n",
       "    <tr>\n",
       "      <td>PC4</td>\n",
       "      <td>0.037440</td>\n",
       "      <td>0.214629</td>\n",
       "    </tr>\n",
       "    <tr>\n",
       "      <td>PC5</td>\n",
       "      <td>0.035834</td>\n",
       "      <td>0.250463</td>\n",
       "    </tr>\n",
       "    <tr>\n",
       "      <td>PC6</td>\n",
       "      <td>0.032818</td>\n",
       "      <td>0.283281</td>\n",
       "    </tr>\n",
       "    <tr>\n",
       "      <td>PC7</td>\n",
       "      <td>0.029469</td>\n",
       "      <td>0.312749</td>\n",
       "    </tr>\n",
       "    <tr>\n",
       "      <td>PC8</td>\n",
       "      <td>0.028431</td>\n",
       "      <td>0.341180</td>\n",
       "    </tr>\n",
       "    <tr>\n",
       "      <td>PC9</td>\n",
       "      <td>0.027176</td>\n",
       "      <td>0.368356</td>\n",
       "    </tr>\n",
       "    <tr>\n",
       "      <td>PC10</td>\n",
       "      <td>0.026570</td>\n",
       "      <td>0.394926</td>\n",
       "    </tr>\n",
       "    <tr>\n",
       "      <td>PC11</td>\n",
       "      <td>0.025996</td>\n",
       "      <td>0.420922</td>\n",
       "    </tr>\n",
       "    <tr>\n",
       "      <td>PC12</td>\n",
       "      <td>0.025045</td>\n",
       "      <td>0.445967</td>\n",
       "    </tr>\n",
       "    <tr>\n",
       "      <td>PC13</td>\n",
       "      <td>0.023981</td>\n",
       "      <td>0.469948</td>\n",
       "    </tr>\n",
       "    <tr>\n",
       "      <td>PC14</td>\n",
       "      <td>0.023588</td>\n",
       "      <td>0.493536</td>\n",
       "    </tr>\n",
       "    <tr>\n",
       "      <td>PC15</td>\n",
       "      <td>0.022958</td>\n",
       "      <td>0.516494</td>\n",
       "    </tr>\n",
       "    <tr>\n",
       "      <td>PC16</td>\n",
       "      <td>0.021676</td>\n",
       "      <td>0.538170</td>\n",
       "    </tr>\n",
       "    <tr>\n",
       "      <td>PC17</td>\n",
       "      <td>0.021077</td>\n",
       "      <td>0.559247</td>\n",
       "    </tr>\n",
       "    <tr>\n",
       "      <td>PC18</td>\n",
       "      <td>0.020432</td>\n",
       "      <td>0.579679</td>\n",
       "    </tr>\n",
       "    <tr>\n",
       "      <td>PC19</td>\n",
       "      <td>0.019462</td>\n",
       "      <td>0.599141</td>\n",
       "    </tr>\n",
       "    <tr>\n",
       "      <td>PC20</td>\n",
       "      <td>0.018753</td>\n",
       "      <td>0.617894</td>\n",
       "    </tr>\n",
       "    <tr>\n",
       "      <td>PC21</td>\n",
       "      <td>0.018098</td>\n",
       "      <td>0.635992</td>\n",
       "    </tr>\n",
       "    <tr>\n",
       "      <td>PC22</td>\n",
       "      <td>0.017869</td>\n",
       "      <td>0.653861</td>\n",
       "    </tr>\n",
       "    <tr>\n",
       "      <td>PC23</td>\n",
       "      <td>0.017241</td>\n",
       "      <td>0.671102</td>\n",
       "    </tr>\n",
       "    <tr>\n",
       "      <td>PC24</td>\n",
       "      <td>0.016886</td>\n",
       "      <td>0.687988</td>\n",
       "    </tr>\n",
       "    <tr>\n",
       "      <td>PC25</td>\n",
       "      <td>0.016711</td>\n",
       "      <td>0.704699</td>\n",
       "    </tr>\n",
       "    <tr>\n",
       "      <td>PC26</td>\n",
       "      <td>0.015895</td>\n",
       "      <td>0.720594</td>\n",
       "    </tr>\n",
       "    <tr>\n",
       "      <td>PC27</td>\n",
       "      <td>0.015491</td>\n",
       "      <td>0.736084</td>\n",
       "    </tr>\n",
       "    <tr>\n",
       "      <td>PC28</td>\n",
       "      <td>0.014159</td>\n",
       "      <td>0.750243</td>\n",
       "    </tr>\n",
       "    <tr>\n",
       "      <td>PC29</td>\n",
       "      <td>0.013935</td>\n",
       "      <td>0.764178</td>\n",
       "    </tr>\n",
       "    <tr>\n",
       "      <td>PC30</td>\n",
       "      <td>0.013580</td>\n",
       "      <td>0.777759</td>\n",
       "    </tr>\n",
       "    <tr>\n",
       "      <td>PC31</td>\n",
       "      <td>0.013199</td>\n",
       "      <td>0.790957</td>\n",
       "    </tr>\n",
       "    <tr>\n",
       "      <td>PC32</td>\n",
       "      <td>0.012783</td>\n",
       "      <td>0.803741</td>\n",
       "    </tr>\n",
       "    <tr>\n",
       "      <td>PC33</td>\n",
       "      <td>0.012365</td>\n",
       "      <td>0.816106</td>\n",
       "    </tr>\n",
       "    <tr>\n",
       "      <td>PC34</td>\n",
       "      <td>0.011808</td>\n",
       "      <td>0.827914</td>\n",
       "    </tr>\n",
       "    <tr>\n",
       "      <td>PC35</td>\n",
       "      <td>0.010912</td>\n",
       "      <td>0.838825</td>\n",
       "    </tr>\n",
       "    <tr>\n",
       "      <td>PC36</td>\n",
       "      <td>0.010792</td>\n",
       "      <td>0.849618</td>\n",
       "    </tr>\n",
       "    <tr>\n",
       "      <td>PC37</td>\n",
       "      <td>0.010648</td>\n",
       "      <td>0.860265</td>\n",
       "    </tr>\n",
       "    <tr>\n",
       "      <td>PC38</td>\n",
       "      <td>0.010531</td>\n",
       "      <td>0.870796</td>\n",
       "    </tr>\n",
       "    <tr>\n",
       "      <td>PC39</td>\n",
       "      <td>0.009741</td>\n",
       "      <td>0.880537</td>\n",
       "    </tr>\n",
       "    <tr>\n",
       "      <td>PC40</td>\n",
       "      <td>0.009428</td>\n",
       "      <td>0.889965</td>\n",
       "    </tr>\n",
       "    <tr>\n",
       "      <td>PC41</td>\n",
       "      <td>0.009201</td>\n",
       "      <td>0.899166</td>\n",
       "    </tr>\n",
       "    <tr>\n",
       "      <td>PC42</td>\n",
       "      <td>0.008908</td>\n",
       "      <td>0.908074</td>\n",
       "    </tr>\n",
       "    <tr>\n",
       "      <td>PC43</td>\n",
       "      <td>0.008565</td>\n",
       "      <td>0.916640</td>\n",
       "    </tr>\n",
       "    <tr>\n",
       "      <td>PC44</td>\n",
       "      <td>0.008194</td>\n",
       "      <td>0.924834</td>\n",
       "    </tr>\n",
       "    <tr>\n",
       "      <td>PC45</td>\n",
       "      <td>0.007599</td>\n",
       "      <td>0.932433</td>\n",
       "    </tr>\n",
       "    <tr>\n",
       "      <td>PC46</td>\n",
       "      <td>0.007368</td>\n",
       "      <td>0.939800</td>\n",
       "    </tr>\n",
       "    <tr>\n",
       "      <td>PC47</td>\n",
       "      <td>0.006968</td>\n",
       "      <td>0.946769</td>\n",
       "    </tr>\n",
       "    <tr>\n",
       "      <td>PC48</td>\n",
       "      <td>0.006532</td>\n",
       "      <td>0.953300</td>\n",
       "    </tr>\n",
       "    <tr>\n",
       "      <td>PC49</td>\n",
       "      <td>0.006326</td>\n",
       "      <td>0.959627</td>\n",
       "    </tr>\n",
       "    <tr>\n",
       "      <td>PC50</td>\n",
       "      <td>0.006000</td>\n",
       "      <td>0.965627</td>\n",
       "    </tr>\n",
       "    <tr>\n",
       "      <td>PC51</td>\n",
       "      <td>0.005839</td>\n",
       "      <td>0.971465</td>\n",
       "    </tr>\n",
       "    <tr>\n",
       "      <td>PC52</td>\n",
       "      <td>0.005363</td>\n",
       "      <td>0.976828</td>\n",
       "    </tr>\n",
       "    <tr>\n",
       "      <td>PC53</td>\n",
       "      <td>0.005116</td>\n",
       "      <td>0.981945</td>\n",
       "    </tr>\n",
       "    <tr>\n",
       "      <td>PC54</td>\n",
       "      <td>0.004851</td>\n",
       "      <td>0.986796</td>\n",
       "    </tr>\n",
       "    <tr>\n",
       "      <td>PC55</td>\n",
       "      <td>0.004455</td>\n",
       "      <td>0.991251</td>\n",
       "    </tr>\n",
       "  </tbody>\n",
       "</table>\n",
       "</div>"
      ],
      "text/plain": [
       "      explained_variance  cumulative_exp_var\n",
       "PC1             0.087318            0.087318\n",
       "PC2             0.047903            0.135222\n",
       "PC3             0.041967            0.177188\n",
       "PC4             0.037440            0.214629\n",
       "PC5             0.035834            0.250463\n",
       "PC6             0.032818            0.283281\n",
       "PC7             0.029469            0.312749\n",
       "PC8             0.028431            0.341180\n",
       "PC9             0.027176            0.368356\n",
       "PC10            0.026570            0.394926\n",
       "PC11            0.025996            0.420922\n",
       "PC12            0.025045            0.445967\n",
       "PC13            0.023981            0.469948\n",
       "PC14            0.023588            0.493536\n",
       "PC15            0.022958            0.516494\n",
       "PC16            0.021676            0.538170\n",
       "PC17            0.021077            0.559247\n",
       "PC18            0.020432            0.579679\n",
       "PC19            0.019462            0.599141\n",
       "PC20            0.018753            0.617894\n",
       "PC21            0.018098            0.635992\n",
       "PC22            0.017869            0.653861\n",
       "PC23            0.017241            0.671102\n",
       "PC24            0.016886            0.687988\n",
       "PC25            0.016711            0.704699\n",
       "PC26            0.015895            0.720594\n",
       "PC27            0.015491            0.736084\n",
       "PC28            0.014159            0.750243\n",
       "PC29            0.013935            0.764178\n",
       "PC30            0.013580            0.777759\n",
       "PC31            0.013199            0.790957\n",
       "PC32            0.012783            0.803741\n",
       "PC33            0.012365            0.816106\n",
       "PC34            0.011808            0.827914\n",
       "PC35            0.010912            0.838825\n",
       "PC36            0.010792            0.849618\n",
       "PC37            0.010648            0.860265\n",
       "PC38            0.010531            0.870796\n",
       "PC39            0.009741            0.880537\n",
       "PC40            0.009428            0.889965\n",
       "PC41            0.009201            0.899166\n",
       "PC42            0.008908            0.908074\n",
       "PC43            0.008565            0.916640\n",
       "PC44            0.008194            0.924834\n",
       "PC45            0.007599            0.932433\n",
       "PC46            0.007368            0.939800\n",
       "PC47            0.006968            0.946769\n",
       "PC48            0.006532            0.953300\n",
       "PC49            0.006326            0.959627\n",
       "PC50            0.006000            0.965627\n",
       "PC51            0.005839            0.971465\n",
       "PC52            0.005363            0.976828\n",
       "PC53            0.005116            0.981945\n",
       "PC54            0.004851            0.986796\n",
       "PC55            0.004455            0.991251"
      ]
     },
     "execution_count": 68,
     "metadata": {},
     "output_type": "execute_result"
    }
   ],
   "source": [
    "# isolating the eigenvalues (proportion of explained variance for associated principal component)\n",
    "var_exp = pca_99.explained_variance_ratio_\n",
    "\n",
    "# determining the cumulative eigenvalues & summarizing in a dataframe\n",
    "cum_var_exp = np.cumsum(var_exp)\n",
    "pd.DataFrame({\"explained_variance\": var_exp, \"cumulative_exp_var\": cum_var_exp}, index = [f\"PC{i+1}\" for i in range(len(var_exp))])"
   ]
  },
  {
   "cell_type": "markdown",
   "metadata": {},
   "source": [
    "The above dataframe indicates that we can explain 99% of the variance of our dataset with 55 principal components, which is a clear improvement over the original 262. "
   ]
  },
  {
   "cell_type": "markdown",
   "metadata": {},
   "source": [
    "Next, we make use of a Scree plot to visualize the proportion of total variance explained by each Principal Component"
   ]
  },
  {
   "cell_type": "code",
   "execution_count": 69,
   "metadata": {},
   "outputs": [
    {
     "data": {
      "image/png": "[encoded data removed]",
      "text/plain": [
       "<Figure size 1296x360 with 1 Axes>"
      ]
     },
     "metadata": {
      "needs_background": "light"
     },
     "output_type": "display_data"
    }
   ],
   "source": [
    "# Scree plot\n",
    "plt.figure(figsize=(18,5))\n",
    "plt.title(\"Scree plot\")\n",
    "plt.xlabel(\"Principal Component\")\n",
    "plt.ylabel(\"Proportion of Variance\")\n",
    "x_tick_range = range(1,len(var_exp) + 1)\n",
    "plt.plot(x_tick_range,var_exp)\n",
    "plt.plot(x_tick_range,cum_var_exp)\n",
    "plt.xticks(x_tick_range);"
   ]
  },
  {
   "cell_type": "markdown",
   "metadata": {},
   "source": [
    "The above Scree plot helps us visualize the impact of each individual Principal Component. We see that it takes many components to give a complete explanation of the variance. However, it clearly takes fewer components than the number of features in our full dataset (262)."
   ]
  },
  {
   "cell_type": "code",
   "execution_count": 70,
   "metadata": {},
   "outputs": [
    {
     "data": {
      "text/plain": [
       "0.65"
      ]
     },
     "execution_count": 70,
     "metadata": {},
     "output_type": "execute_result"
    }
   ],
   "source": [
    "# Checking the score for the Principal Component Analysis model\n",
    "lr_pca_99 = LogisticRegression(random_state=RANDOM_STATE)\n",
    "lr_pca_99.fit(Z_train_99, y_train)\n",
    "lr_pca_99.score(Z_test_99, y_test)"
   ]
  },
  {
   "cell_type": "markdown",
   "metadata": {},
   "source": [
    "We obtain an Accuracy score of 0.65. "
   ]
  },
  {
   "cell_type": "code",
   "execution_count": 71,
   "metadata": {},
   "outputs": [
    {
     "data": {
      "text/plain": [
       "55"
      ]
     },
     "execution_count": 71,
     "metadata": {},
     "output_type": "execute_result"
    }
   ],
   "source": [
    "# A check: How many components are we using?\n",
    "len(pca_99.components_)"
   ]
  },
  {
   "cell_type": "markdown",
   "metadata": {},
   "source": [
    "We obtain an accuracy score of 0.65 using 21% (or 55 / 262) of the number of features of our original model (note that this is scoring accuracy, vs ROC AUC, as we had used above)\n",
    "\n",
    "We would not necessarily consider this to be a strong score (relative to a baseline accuracy metric of 0.53), but it will be worthwhile to investigate the key principal components."
   ]
  },
  {
   "cell_type": "code",
   "execution_count": 72,
   "metadata": {},
   "outputs": [
    {
     "data": {
      "text/html": [
       "<div>\n",
       "<style scoped>\n",
       "    .dataframe tbody tr th:only-of-type {\n",
       "        vertical-align: middle;\n",
       "    }\n",
       "\n",
       "    .dataframe tbody tr th {\n",
       "        vertical-align: top;\n",
       "    }\n",
       "\n",
       "    .dataframe thead th {\n",
       "        text-align: right;\n",
       "    }\n",
       "</style>\n",
       "<table border=\"1\" class=\"dataframe\">\n",
       "  <thead>\n",
       "    <tr style=\"text-align: right;\">\n",
       "      <th></th>\n",
       "      <th>PC1</th>\n",
       "      <th>PC2</th>\n",
       "      <th>PC3</th>\n",
       "      <th>PC4</th>\n",
       "      <th>PC5</th>\n",
       "      <th>PC6</th>\n",
       "      <th>PC7</th>\n",
       "      <th>PC8</th>\n",
       "      <th>PC9</th>\n",
       "      <th>PC10</th>\n",
       "      <th>...</th>\n",
       "      <th>PC46</th>\n",
       "      <th>PC47</th>\n",
       "      <th>PC48</th>\n",
       "      <th>PC49</th>\n",
       "      <th>PC50</th>\n",
       "      <th>PC51</th>\n",
       "      <th>PC52</th>\n",
       "      <th>PC53</th>\n",
       "      <th>PC54</th>\n",
       "      <th>PC55</th>\n",
       "    </tr>\n",
       "  </thead>\n",
       "  <tbody>\n",
       "    <tr>\n",
       "      <td>2_fraction</td>\n",
       "      <td>0.730013</td>\n",
       "      <td>0.088612</td>\n",
       "      <td>-0.088008</td>\n",
       "      <td>0.239159</td>\n",
       "      <td>-0.132127</td>\n",
       "      <td>-0.249274</td>\n",
       "      <td>0.135426</td>\n",
       "      <td>-0.077293</td>\n",
       "      <td>0.044197</td>\n",
       "      <td>-0.028522</td>\n",
       "      <td>...</td>\n",
       "      <td>-0.051611</td>\n",
       "      <td>-0.047043</td>\n",
       "      <td>-0.015553</td>\n",
       "      <td>-0.073404</td>\n",
       "      <td>-0.021369</td>\n",
       "      <td>-0.109826</td>\n",
       "      <td>-0.057965</td>\n",
       "      <td>0.027324</td>\n",
       "      <td>0.034590</td>\n",
       "      <td>-0.024361</td>\n",
       "    </tr>\n",
       "    <tr>\n",
       "      <td>1_fraction</td>\n",
       "      <td>-0.836276</td>\n",
       "      <td>-0.139445</td>\n",
       "      <td>0.278098</td>\n",
       "      <td>-0.105704</td>\n",
       "      <td>0.087989</td>\n",
       "      <td>0.161602</td>\n",
       "      <td>-0.086062</td>\n",
       "      <td>0.075990</td>\n",
       "      <td>-0.037880</td>\n",
       "      <td>0.017870</td>\n",
       "      <td>...</td>\n",
       "      <td>0.038169</td>\n",
       "      <td>0.025354</td>\n",
       "      <td>-0.005314</td>\n",
       "      <td>0.056863</td>\n",
       "      <td>0.007279</td>\n",
       "      <td>0.094059</td>\n",
       "      <td>0.035625</td>\n",
       "      <td>-0.023307</td>\n",
       "      <td>-0.018996</td>\n",
       "      <td>0.023143</td>\n",
       "    </tr>\n",
       "    <tr>\n",
       "      <td>3_fraction</td>\n",
       "      <td>0.643017</td>\n",
       "      <td>0.194220</td>\n",
       "      <td>-0.507609</td>\n",
       "      <td>-0.105711</td>\n",
       "      <td>0.076087</td>\n",
       "      <td>-0.017745</td>\n",
       "      <td>0.015344</td>\n",
       "      <td>-0.090691</td>\n",
       "      <td>0.037972</td>\n",
       "      <td>-0.009777</td>\n",
       "      <td>...</td>\n",
       "      <td>-0.010349</td>\n",
       "      <td>0.007286</td>\n",
       "      <td>0.039961</td>\n",
       "      <td>-0.008475</td>\n",
       "      <td>0.022791</td>\n",
       "      <td>-0.036171</td>\n",
       "      <td>0.010319</td>\n",
       "      <td>0.000241</td>\n",
       "      <td>0.001260</td>\n",
       "      <td>-0.012479</td>\n",
       "    </tr>\n",
       "    <tr>\n",
       "      <td>4_fraction</td>\n",
       "      <td>0.716263</td>\n",
       "      <td>0.037350</td>\n",
       "      <td>-0.287656</td>\n",
       "      <td>-0.309064</td>\n",
       "      <td>-0.206366</td>\n",
       "      <td>0.275884</td>\n",
       "      <td>-0.189887</td>\n",
       "      <td>0.142141</td>\n",
       "      <td>-0.086199</td>\n",
       "      <td>0.067796</td>\n",
       "      <td>...</td>\n",
       "      <td>0.033528</td>\n",
       "      <td>0.064992</td>\n",
       "      <td>0.020434</td>\n",
       "      <td>-0.003210</td>\n",
       "      <td>-0.000989</td>\n",
       "      <td>-0.008469</td>\n",
       "      <td>0.029100</td>\n",
       "      <td>0.034747</td>\n",
       "      <td>-0.069498</td>\n",
       "      <td>-0.008594</td>\n",
       "    </tr>\n",
       "    <tr>\n",
       "      <td>vietnamese_fraction</td>\n",
       "      <td>0.310308</td>\n",
       "      <td>0.443646</td>\n",
       "      <td>0.325221</td>\n",
       "      <td>0.050782</td>\n",
       "      <td>0.041169</td>\n",
       "      <td>-0.264319</td>\n",
       "      <td>0.115831</td>\n",
       "      <td>-0.071773</td>\n",
       "      <td>-0.086367</td>\n",
       "      <td>-0.188964</td>\n",
       "      <td>...</td>\n",
       "      <td>-0.168064</td>\n",
       "      <td>-0.070716</td>\n",
       "      <td>0.102349</td>\n",
       "      <td>0.017859</td>\n",
       "      <td>0.087877</td>\n",
       "      <td>0.011726</td>\n",
       "      <td>0.088695</td>\n",
       "      <td>-0.071638</td>\n",
       "      <td>-0.086868</td>\n",
       "      <td>0.056209</td>\n",
       "    </tr>\n",
       "  </tbody>\n",
       "</table>\n",
       "<p>5 rows × 55 columns</p>\n",
       "</div>"
      ],
      "text/plain": [
       "                          PC1       PC2       PC3       PC4       PC5  \\\n",
       "2_fraction           0.730013  0.088612 -0.088008  0.239159 -0.132127   \n",
       "1_fraction          -0.836276 -0.139445  0.278098 -0.105704  0.087989   \n",
       "3_fraction           0.643017  0.194220 -0.507609 -0.105711  0.076087   \n",
       "4_fraction           0.716263  0.037350 -0.287656 -0.309064 -0.206366   \n",
       "vietnamese_fraction  0.310308  0.443646  0.325221  0.050782  0.041169   \n",
       "\n",
       "                          PC6       PC7       PC8       PC9      PC10  ...  \\\n",
       "2_fraction          -0.249274  0.135426 -0.077293  0.044197 -0.028522  ...   \n",
       "1_fraction           0.161602 -0.086062  0.075990 -0.037880  0.017870  ...   \n",
       "3_fraction          -0.017745  0.015344 -0.090691  0.037972 -0.009777  ...   \n",
       "4_fraction           0.275884 -0.189887  0.142141 -0.086199  0.067796  ...   \n",
       "vietnamese_fraction -0.264319  0.115831 -0.071773 -0.086367 -0.188964  ...   \n",
       "\n",
       "                         PC46      PC47      PC48      PC49      PC50  \\\n",
       "2_fraction          -0.051611 -0.047043 -0.015553 -0.073404 -0.021369   \n",
       "1_fraction           0.038169  0.025354 -0.005314  0.056863  0.007279   \n",
       "3_fraction          -0.010349  0.007286  0.039961 -0.008475  0.022791   \n",
       "4_fraction           0.033528  0.064992  0.020434 -0.003210 -0.000989   \n",
       "vietnamese_fraction -0.168064 -0.070716  0.102349  0.017859  0.087877   \n",
       "\n",
       "                         PC51      PC52      PC53      PC54      PC55  \n",
       "2_fraction          -0.109826 -0.057965  0.027324  0.034590 -0.024361  \n",
       "1_fraction           0.094059  0.035625 -0.023307 -0.018996  0.023143  \n",
       "3_fraction          -0.036171  0.010319  0.000241  0.001260 -0.012479  \n",
       "4_fraction          -0.008469  0.029100  0.034747 -0.069498 -0.008594  \n",
       "vietnamese_fraction  0.011726  0.088695 -0.071638 -0.086868  0.056209  \n",
       "\n",
       "[5 rows x 55 columns]"
      ]
     },
     "execution_count": 72,
     "metadata": {},
     "output_type": "execute_result"
    }
   ],
   "source": [
    "# Create a dataframe that contains our individual Principal Components\n",
    "loadings = pca_99.components_.T * np.sqrt(pca_99.explained_variance_)\n",
    "\n",
    "loading_matrix = pd.DataFrame(loadings, columns = [f\"PC{i + 1}\" for i in range(loadings.shape[1])],index=X.columns)\n",
    "loading_matrix.head()"
   ]
  },
  {
   "cell_type": "markdown",
   "metadata": {},
   "source": [
    "### Ranking the Principal Components in order of correlation with our target (affluence)"
   ]
  },
  {
   "cell_type": "code",
   "execution_count": 73,
   "metadata": {},
   "outputs": [
    {
     "data": {
      "image/png": "[encoded data removed]",
      "text/plain": [
       "<Figure size 360x1440 with 2 Axes>"
      ]
     },
     "metadata": {
      "needs_background": "light"
     },
     "output_type": "display_data"
    }
   ],
   "source": [
    "# Create a sorted heatmap based on correlation with our target\n",
    "coefs = pd.DataFrame([np.exp(num) for num in lr_pca_99.coef_[0]], index = [f\"PC{i + 1}\" for i in range(loadings.shape[1])], columns = [\"coefs\"])\n",
    "plt.figure(figsize=(5,20))\n",
    "plt.title(\"odds of affluence ($e^{\\\\beta_i}$)\", fontsize = 16)\n",
    "sns.heatmap(coefs.sort_values(\"coefs\", ascending = False), annot = True, xticklabels=[\"\"]);"
   ]
  },
  {
   "cell_type": "markdown",
   "metadata": {},
   "source": [
    "We see that $PC1$ and $PC48$ are most highly positively correlated with our target. \n",
    "\n",
    "- The Logistic Regression model coefficients suggest with a unit increase in $PC1$, we can expect that the corresponding area (aka cluster) is 2 times as likely to be affluent.\n",
    "- With a unit increase in $PC48$, we can expect that the corresponding area (cluster) is 1.7 times as likely to be affluent.\n",
    "\n",
    "We will further interpret these two features.\n",
    "\n",
    "We will also investigate $PC28$ (the bottom of the scale), for which we can expect that the corresponding area (aka cluster) is 0.58 times as likely to be affluent for each unit increase in $PC28$ (this is additionally the Principal Component that is least likely to be affluent for each unit increase in $PC28$)."
   ]
  },
  {
   "cell_type": "markdown",
   "metadata": {},
   "source": [
    "### Interpreting PC1\n",
    "\n",
    "We can investigate which (group of) features are highly correlated (both positively and negatively) with $PC1$. "
   ]
  },
  {
   "cell_type": "code",
   "execution_count": 74,
   "metadata": {},
   "outputs": [
    {
     "data": {
      "text/html": [
       "<div>\n",
       "<style scoped>\n",
       "    .dataframe tbody tr th:only-of-type {\n",
       "        vertical-align: middle;\n",
       "    }\n",
       "\n",
       "    .dataframe tbody tr th {\n",
       "        vertical-align: top;\n",
       "    }\n",
       "\n",
       "    .dataframe thead th {\n",
       "        text-align: right;\n",
       "    }\n",
       "</style>\n",
       "<table border=\"1\" class=\"dataframe\">\n",
       "  <thead>\n",
       "    <tr style=\"text-align: right;\">\n",
       "      <th></th>\n",
       "      <th>PC1</th>\n",
       "    </tr>\n",
       "  </thead>\n",
       "  <tbody>\n",
       "    <tr>\n",
       "      <td>french_fraction</td>\n",
       "      <td>0.793941</td>\n",
       "    </tr>\n",
       "    <tr>\n",
       "      <td>wine_bars_fraction</td>\n",
       "      <td>0.756888</td>\n",
       "    </tr>\n",
       "    <tr>\n",
       "      <td>2_fraction</td>\n",
       "      <td>0.730013</td>\n",
       "    </tr>\n",
       "    <tr>\n",
       "      <td>4_fraction</td>\n",
       "      <td>0.716263</td>\n",
       "    </tr>\n",
       "    <tr>\n",
       "      <td>3_4_fraction</td>\n",
       "      <td>0.712654</td>\n",
       "    </tr>\n",
       "    <tr>\n",
       "      <td>gaybars_fraction</td>\n",
       "      <td>0.684986</td>\n",
       "    </tr>\n",
       "    <tr>\n",
       "      <td>ramen_fraction</td>\n",
       "      <td>0.655467</td>\n",
       "    </tr>\n",
       "    <tr>\n",
       "      <td>newamerican_fraction</td>\n",
       "      <td>0.644714</td>\n",
       "    </tr>\n",
       "    <tr>\n",
       "      <td>3_fraction</td>\n",
       "      <td>0.643017</td>\n",
       "    </tr>\n",
       "    <tr>\n",
       "      <td>chocolate_fraction</td>\n",
       "      <td>0.616830</td>\n",
       "    </tr>\n",
       "  </tbody>\n",
       "</table>\n",
       "</div>"
      ],
      "text/plain": [
       "                           PC1\n",
       "french_fraction       0.793941\n",
       "wine_bars_fraction    0.756888\n",
       "2_fraction            0.730013\n",
       "4_fraction            0.716263\n",
       "3_4_fraction          0.712654\n",
       "gaybars_fraction      0.684986\n",
       "ramen_fraction        0.655467\n",
       "newamerican_fraction  0.644714\n",
       "3_fraction            0.643017\n",
       "chocolate_fraction    0.616830"
      ]
     },
     "execution_count": 74,
     "metadata": {},
     "output_type": "execute_result"
    }
   ],
   "source": [
    "# Let's review the features associated with PC1\n",
    "loading_matrix.sort_values(by=\"PC1\", ascending = False)[[\"PC1\"]].head(10)"
   ]
  },
  {
   "cell_type": "code",
   "execution_count": 75,
   "metadata": {},
   "outputs": [
    {
     "data": {
      "text/plain": [
       "0.08731848873080338"
      ]
     },
     "execution_count": 75,
     "metadata": {},
     "output_type": "execute_result"
    }
   ],
   "source": [
    "# how much does PC1 explain the total variance?\n",
    "pca_99.explained_variance_ratio_[0] # 1st component"
   ]
  },
  {
   "cell_type": "markdown",
   "metadata": {},
   "source": [
    "__PC1 Interpretation - positive predictors of affluence:__ \n",
    "- On its own, PC1 explains ~9% of the total variance \n",
    "- It appears the most significant features correlating with the __1st Principal Component are french/wine related as well as related to higher price points.__  These are familiar results! These business categories are similar to what we had obtained via our non-PCA Logistic Regression model during our model selection process. \n",
    "- Since these features are highly correlated to the Principal Component that contributes the largest portion of the explained variance, it's _very likely_ (not guaranteed) that these features will be important in predicting the target.\n"
   ]
  },
  {
   "cell_type": "code",
   "execution_count": 76,
   "metadata": {},
   "outputs": [
    {
     "data": {
      "text/html": [
       "<div>\n",
       "<style scoped>\n",
       "    .dataframe tbody tr th:only-of-type {\n",
       "        vertical-align: middle;\n",
       "    }\n",
       "\n",
       "    .dataframe tbody tr th {\n",
       "        vertical-align: top;\n",
       "    }\n",
       "\n",
       "    .dataframe thead th {\n",
       "        text-align: right;\n",
       "    }\n",
       "</style>\n",
       "<table border=\"1\" class=\"dataframe\">\n",
       "  <thead>\n",
       "    <tr style=\"text-align: right;\">\n",
       "      <th></th>\n",
       "      <th>PC1</th>\n",
       "    </tr>\n",
       "  </thead>\n",
       "  <tbody>\n",
       "    <tr>\n",
       "      <td>pizza_fraction</td>\n",
       "      <td>-0.574911</td>\n",
       "    </tr>\n",
       "    <tr>\n",
       "      <td>donuts_fraction</td>\n",
       "      <td>-0.583510</td>\n",
       "    </tr>\n",
       "    <tr>\n",
       "      <td>hotdogs_fraction</td>\n",
       "      <td>-0.667309</td>\n",
       "    </tr>\n",
       "    <tr>\n",
       "      <td>1_2_fraction</td>\n",
       "      <td>-0.712654</td>\n",
       "    </tr>\n",
       "    <tr>\n",
       "      <td>1_fraction</td>\n",
       "      <td>-0.836276</td>\n",
       "    </tr>\n",
       "  </tbody>\n",
       "</table>\n",
       "</div>"
      ],
      "text/plain": [
       "                       PC1\n",
       "pizza_fraction   -0.574911\n",
       "donuts_fraction  -0.583510\n",
       "hotdogs_fraction -0.667309\n",
       "1_2_fraction     -0.712654\n",
       "1_fraction       -0.836276"
      ]
     },
     "execution_count": 76,
     "metadata": {},
     "output_type": "execute_result"
    }
   ],
   "source": [
    "# Looking for negative correlations with \n",
    "loading_matrix.sort_values(by=\"PC1\", ascending = False)[[\"PC1\"]].tail(5)"
   ]
  },
  {
   "cell_type": "markdown",
   "metadata": {},
   "source": [
    "__PC1 Interpretation - negative predictors of affluence:__ \n",
    "On the opposite end of PC1, we again see familiar categories - similar to the features obtained via Logistic Regression in our full model comparison process. As mentioned earlier, we are not surprised that these features are negatively associated with affluence, as they are lower-priced and quick food options."
   ]
  },
  {
   "cell_type": "markdown",
   "metadata": {},
   "source": [
    "### Interpreting PC48\n",
    "\n",
    "Next, we will review which (group of) features are highly correlated (both positively and negatively) with $PC48$. "
   ]
  },
  {
   "cell_type": "code",
   "execution_count": 77,
   "metadata": {},
   "outputs": [
    {
     "data": {
      "text/plain": [
       "0.006531800633679118"
      ]
     },
     "execution_count": 77,
     "metadata": {},
     "output_type": "execute_result"
    }
   ],
   "source": [
    "# how much does PC48 explain the total variance?\n",
    "pca_99.explained_variance_ratio_[47] # 47th in the list is PC48"
   ]
  },
  {
   "cell_type": "markdown",
   "metadata": {},
   "source": [
    "It is good to note that on its own, PC48 explains just 0.65% of the total variance. Despite this minimal impact on explaining variance, it is the 2nd best as a predictor for affluence."
   ]
  },
  {
   "cell_type": "code",
   "execution_count": 78,
   "metadata": {},
   "outputs": [
    {
     "data": {
      "text/html": [
       "<div>\n",
       "<style scoped>\n",
       "    .dataframe tbody tr th:only-of-type {\n",
       "        vertical-align: middle;\n",
       "    }\n",
       "\n",
       "    .dataframe tbody tr th {\n",
       "        vertical-align: top;\n",
       "    }\n",
       "\n",
       "    .dataframe thead th {\n",
       "        text-align: right;\n",
       "    }\n",
       "</style>\n",
       "<table border=\"1\" class=\"dataframe\">\n",
       "  <thead>\n",
       "    <tr style=\"text-align: right;\">\n",
       "      <th></th>\n",
       "      <th>PC48</th>\n",
       "    </tr>\n",
       "  </thead>\n",
       "  <tbody>\n",
       "    <tr>\n",
       "      <td>ethiopian_fraction</td>\n",
       "      <td>0.294094</td>\n",
       "    </tr>\n",
       "    <tr>\n",
       "      <td>bookstores_fraction</td>\n",
       "      <td>0.253398</td>\n",
       "    </tr>\n",
       "    <tr>\n",
       "      <td>hawaiian_fraction</td>\n",
       "      <td>0.241076</td>\n",
       "    </tr>\n",
       "    <tr>\n",
       "      <td>gelato_fraction</td>\n",
       "      <td>0.210182</td>\n",
       "    </tr>\n",
       "    <tr>\n",
       "      <td>kosher_fraction</td>\n",
       "      <td>0.210145</td>\n",
       "    </tr>\n",
       "    <tr>\n",
       "      <td>tapas_fraction</td>\n",
       "      <td>0.195148</td>\n",
       "    </tr>\n",
       "    <tr>\n",
       "      <td>panasian_fraction</td>\n",
       "      <td>0.188049</td>\n",
       "    </tr>\n",
       "    <tr>\n",
       "      <td>peruvian_fraction</td>\n",
       "      <td>0.176734</td>\n",
       "    </tr>\n",
       "    <tr>\n",
       "      <td>desserts_fraction</td>\n",
       "      <td>0.174574</td>\n",
       "    </tr>\n",
       "    <tr>\n",
       "      <td>pastashops_fraction</td>\n",
       "      <td>0.168429</td>\n",
       "    </tr>\n",
       "  </tbody>\n",
       "</table>\n",
       "</div>"
      ],
      "text/plain": [
       "                         PC48\n",
       "ethiopian_fraction   0.294094\n",
       "bookstores_fraction  0.253398\n",
       "hawaiian_fraction    0.241076\n",
       "gelato_fraction      0.210182\n",
       "kosher_fraction      0.210145\n",
       "tapas_fraction       0.195148\n",
       "panasian_fraction    0.188049\n",
       "peruvian_fraction    0.176734\n",
       "desserts_fraction    0.174574\n",
       "pastashops_fraction  0.168429"
      ]
     },
     "execution_count": 78,
     "metadata": {},
     "output_type": "execute_result"
    }
   ],
   "source": [
    "# Reviewing the feature components\n",
    "loading_matrix.sort_values(by=\"PC48\", ascending = False)[[\"PC48\"]].head(10)"
   ]
  },
  {
   "cell_type": "markdown",
   "metadata": {},
   "source": [
    "__PC48 Interpretation - positive predictors of affluence:__\n",
    "From the PCA model, we know that this group of features has relative significance for predicting affluence. However, they are not necessarily expected or intuitive! It seems that ethiopian restaurants, bookstores, hawaiian & peruvian restaurants are together positively correlated with affluence. One might collectively term these as somewhat international/exotic business or restaurant types."
   ]
  },
  {
   "cell_type": "code",
   "execution_count": 79,
   "metadata": {},
   "outputs": [
    {
     "data": {
      "text/html": [
       "<div>\n",
       "<style scoped>\n",
       "    .dataframe tbody tr th:only-of-type {\n",
       "        vertical-align: middle;\n",
       "    }\n",
       "\n",
       "    .dataframe tbody tr th {\n",
       "        vertical-align: top;\n",
       "    }\n",
       "\n",
       "    .dataframe thead th {\n",
       "        text-align: right;\n",
       "    }\n",
       "</style>\n",
       "<table border=\"1\" class=\"dataframe\">\n",
       "  <thead>\n",
       "    <tr style=\"text-align: right;\">\n",
       "      <th></th>\n",
       "      <th>PC48</th>\n",
       "    </tr>\n",
       "  </thead>\n",
       "  <tbody>\n",
       "    <tr>\n",
       "      <td>african_fraction</td>\n",
       "      <td>-0.170592</td>\n",
       "    </tr>\n",
       "    <tr>\n",
       "      <td>greek_fraction</td>\n",
       "      <td>-0.177204</td>\n",
       "    </tr>\n",
       "    <tr>\n",
       "      <td>asianfusion_fraction</td>\n",
       "      <td>-0.231780</td>\n",
       "    </tr>\n",
       "    <tr>\n",
       "      <td>cupcakes_fraction</td>\n",
       "      <td>-0.249341</td>\n",
       "    </tr>\n",
       "    <tr>\n",
       "      <td>petstore_fraction</td>\n",
       "      <td>-0.270514</td>\n",
       "    </tr>\n",
       "  </tbody>\n",
       "</table>\n",
       "</div>"
      ],
      "text/plain": [
       "                          PC48\n",
       "african_fraction     -0.170592\n",
       "greek_fraction       -0.177204\n",
       "asianfusion_fraction -0.231780\n",
       "cupcakes_fraction    -0.249341\n",
       "petstore_fraction    -0.270514"
      ]
     },
     "execution_count": 79,
     "metadata": {},
     "output_type": "execute_result"
    }
   ],
   "source": [
    "# Interpretation\n",
    "loading_matrix.sort_values(by=\"PC48\", ascending = False)[[\"PC48\"]].tail(5)"
   ]
  },
  {
   "cell_type": "markdown",
   "metadata": {},
   "source": [
    "__PC48 Interpretation - negative predictors of affluence:__ \n",
    "- We see that petstores, cupcake shops as well as asian fusion, greek & african restaurants are generally opposing the features we found above (ethiopian restaurants, bookstores, hawaiian restaurant). Again, this is not intuitive, but is interesting to contemplate. On the other end of the spectrum, one might view pet stores, cupcake shops & Asian Fusion as less international / exotic businesses.\n"
   ]
  },
  {
   "cell_type": "markdown",
   "metadata": {},
   "source": [
    "### Interpreting PC28\n",
    "\n",
    "Next, we will review which (group of) features are highly correlated (both positively and negatively) with $PC28$. "
   ]
  },
  {
   "cell_type": "code",
   "execution_count": 80,
   "metadata": {},
   "outputs": [
    {
     "data": {
      "text/plain": [
       "0.014158769652734902"
      ]
     },
     "execution_count": 80,
     "metadata": {},
     "output_type": "execute_result"
    }
   ],
   "source": [
    "# how much does PC28 explain the total variance?\n",
    "pca_99.explained_variance_ratio_[27] # 27th in the list is PC28"
   ]
  },
  {
   "cell_type": "markdown",
   "metadata": {},
   "source": [
    "PC28 explains 1.4% of the total variance."
   ]
  },
  {
   "cell_type": "code",
   "execution_count": 81,
   "metadata": {},
   "outputs": [
    {
     "data": {
      "text/html": [
       "<div>\n",
       "<style scoped>\n",
       "    .dataframe tbody tr th:only-of-type {\n",
       "        vertical-align: middle;\n",
       "    }\n",
       "\n",
       "    .dataframe tbody tr th {\n",
       "        vertical-align: top;\n",
       "    }\n",
       "\n",
       "    .dataframe thead th {\n",
       "        text-align: right;\n",
       "    }\n",
       "</style>\n",
       "<table border=\"1\" class=\"dataframe\">\n",
       "  <thead>\n",
       "    <tr style=\"text-align: right;\">\n",
       "      <th></th>\n",
       "      <th>PC28</th>\n",
       "    </tr>\n",
       "  </thead>\n",
       "  <tbody>\n",
       "    <tr>\n",
       "      <td>modern_european_fraction</td>\n",
       "      <td>0.334257</td>\n",
       "    </tr>\n",
       "    <tr>\n",
       "      <td>spas_fraction</td>\n",
       "      <td>0.315960</td>\n",
       "    </tr>\n",
       "    <tr>\n",
       "      <td>turkish_fraction</td>\n",
       "      <td>0.223316</td>\n",
       "    </tr>\n",
       "    <tr>\n",
       "      <td>lounges_fraction</td>\n",
       "      <td>0.220900</td>\n",
       "    </tr>\n",
       "    <tr>\n",
       "      <td>divebars_fraction</td>\n",
       "      <td>0.214704</td>\n",
       "    </tr>\n",
       "    <tr>\n",
       "      <td>soup_fraction</td>\n",
       "      <td>0.210686</td>\n",
       "    </tr>\n",
       "    <tr>\n",
       "      <td>hotdog_fraction</td>\n",
       "      <td>0.206425</td>\n",
       "    </tr>\n",
       "    <tr>\n",
       "      <td>seafood_fraction</td>\n",
       "      <td>0.194002</td>\n",
       "    </tr>\n",
       "    <tr>\n",
       "      <td>tradamerican_fraction</td>\n",
       "      <td>0.192243</td>\n",
       "    </tr>\n",
       "    <tr>\n",
       "      <td>kitchenandbath_fraction</td>\n",
       "      <td>0.191808</td>\n",
       "    </tr>\n",
       "  </tbody>\n",
       "</table>\n",
       "</div>"
      ],
      "text/plain": [
       "                              PC28\n",
       "modern_european_fraction  0.334257\n",
       "spas_fraction             0.315960\n",
       "turkish_fraction          0.223316\n",
       "lounges_fraction          0.220900\n",
       "divebars_fraction         0.214704\n",
       "soup_fraction             0.210686\n",
       "hotdog_fraction           0.206425\n",
       "seafood_fraction          0.194002\n",
       "tradamerican_fraction     0.192243\n",
       "kitchenandbath_fraction   0.191808"
      ]
     },
     "execution_count": 81,
     "metadata": {},
     "output_type": "execute_result"
    }
   ],
   "source": [
    "# Reviewing the feature components\n",
    "loading_matrix.sort_values(by=\"PC28\", ascending = False)[[\"PC28\"]].head(10)"
   ]
  },
  {
   "cell_type": "markdown",
   "metadata": {},
   "source": [
    "From the PCA model, we know that this group of features is least significant for predicting affluence. We see businesses such as Modern European restaurants, turkish businesses as well as spas & lounges. While these may seem rather luxury in nature, per our New York City data, they do not predict a neighborhood of affluence. Further down the list are Dive Bars and Hot Dogs, which are more self explanatory in not be associated with 'affluence'."
   ]
  },
  {
   "cell_type": "code",
   "execution_count": 82,
   "metadata": {},
   "outputs": [
    {
     "data": {
      "text/html": [
       "<div>\n",
       "<style scoped>\n",
       "    .dataframe tbody tr th:only-of-type {\n",
       "        vertical-align: middle;\n",
       "    }\n",
       "\n",
       "    .dataframe tbody tr th {\n",
       "        vertical-align: top;\n",
       "    }\n",
       "\n",
       "    .dataframe thead th {\n",
       "        text-align: right;\n",
       "    }\n",
       "</style>\n",
       "<table border=\"1\" class=\"dataframe\">\n",
       "  <thead>\n",
       "    <tr style=\"text-align: right;\">\n",
       "      <th></th>\n",
       "      <th>PC28</th>\n",
       "    </tr>\n",
       "  </thead>\n",
       "  <tbody>\n",
       "    <tr>\n",
       "      <td>southern_fraction</td>\n",
       "      <td>-0.282559</td>\n",
       "    </tr>\n",
       "    <tr>\n",
       "      <td>golf_fraction</td>\n",
       "      <td>-0.300533</td>\n",
       "    </tr>\n",
       "    <tr>\n",
       "      <td>tattoo_fraction</td>\n",
       "      <td>-0.301325</td>\n",
       "    </tr>\n",
       "    <tr>\n",
       "      <td>landmarks_fraction</td>\n",
       "      <td>-0.336494</td>\n",
       "    </tr>\n",
       "    <tr>\n",
       "      <td>asianfusion_fraction</td>\n",
       "      <td>-0.387815</td>\n",
       "    </tr>\n",
       "  </tbody>\n",
       "</table>\n",
       "</div>"
      ],
      "text/plain": [
       "                          PC28\n",
       "southern_fraction    -0.282559\n",
       "golf_fraction        -0.300533\n",
       "tattoo_fraction      -0.301325\n",
       "landmarks_fraction   -0.336494\n",
       "asianfusion_fraction -0.387815"
      ]
     },
     "execution_count": 82,
     "metadata": {},
     "output_type": "execute_result"
    }
   ],
   "source": [
    "# Interpretation\n",
    "loading_matrix.sort_values(by=\"PC28\", ascending = False)[[\"PC28\"]].tail(5)"
   ]
  },
  {
   "cell_type": "markdown",
   "metadata": {},
   "source": [
    "On the other side of this Principal Component are businesses that similar could be considered not predictive of affluence, such as Southern Food, Golf, and Tattoo Parlors. "
   ]
  },
  {
   "cell_type": "markdown",
   "metadata": {},
   "source": [
    "### Principal Component Analysis - concluding thoughts"
   ]
  },
  {
   "cell_type": "markdown",
   "metadata": {},
   "source": [
    "The Principal Component Analysis has confirmed the key features that we had observed and interpreted via our original Logistic Regression Model. Features like French Restaurants, Wine Bars, 4-dollar sign restaurants, ramen restaurants are shown to be positively correlated with affluence. Businesses like pizza and hotdog shops as well as 1 and 2 dollar sign businesses are shown to be oppositely correlated with affluence. \n",
    "\n",
    "While the other principal components we investigated were less intuitive, the analysis of PC1 was good confirmation for us. It could be worthwhile to review additional components at a later date."
   ]
  },
  {
   "cell_type": "markdown",
   "metadata": {},
   "source": [
    "___________"
   ]
  },
  {
   "cell_type": "markdown",
   "metadata": {},
   "source": [
    "## Conclusion - Model Option 1"
   ]
  },
  {
   "cell_type": "markdown",
   "metadata": {},
   "source": [
    "In this notebook, we investigated whether the types of businesses in an area (by relative proportion) can predict whether an area is affluent. To facilitate this analysis, we utilized the K-means clusters developed previously - in which businesses in an area were grouped together across NYC. \n",
    "\n",
    "For each of our 80 clusters, we broke out the percentages of the businesses in two ways 1) by business category, 2) by business price. This resulted in ~260 additional columns, each of which was populated with a fractional number (the % presence of that business type among all businesses in the area/cluster). \n",
    "\n",
    "When configured in this matter, the data set is relatively small, by typical data science standards, making it challenging to avoid overfitting & to attain reasonable cross validation scores. However, per the subsequent analysis, we proceeded to obtain excellent insights into the business types that predict affluence in a region. \n",
    "\n",
    "We evaluated our data set via several Classification methods. We utilized ROC AUC as our modeling metric (keeping in mind our baseline of 0.5) - and analyzed via the following methods: Logistic Regression, K-nearest Neighbors, Decision Tree, Bagging Classifier, and Random Forest (all with Grid Search). We ultimately selected Logistic Regression as our final model, due to overall balance of training, testing and cross-validation scores. The ROC AUC score for our selected model, Logistic Regression, was 0.869. \n",
    "\n",
    "Via Logistic Regression, we discovered numerous business types that are predictive of affluence in our NYC-based areas. The top predictors of affluence were french restaurants, cocktail bars and ramen shops. Cafes and Coffee shops also had a strong presence, along with wine and beer bars. This is intuitively sensible, as these types of business would typically be frequented by people with extra expendible income. People who are more affluent would be more able to sustain upscale alcohol establishments (cocktail and wine bars) and cafes.\n",
    "\n",
    "We also discovered business types that are predictive of the negative class ('not affluent'). The top predictors of 'not affluent' areas are the fraction of pizza restaurants, hot dog shops, donut shops & 1-dollar sign businesses in general. This is intuitively sensible as these types of businesses provide quick and inexpensive food and product options. \n",
    "\n",
    "As a supplemental analysis, motivated by the unusual size of our data set (many features, few observations), we also explored Principal Component Analysis. We determined that 99% of our feature's variance can be explained by just 56 principal components (relative to the ~260 original features). We closely investigated the two principal components that were most highly correlative with predicting affluence. It was affirming to find that the the most significant features to predict affluence (via the 1st Principal Component) are french/wine related as well as related to higher price points. On the opposite end of the same Principal Component, we again saw familiar busines types - similar to the features obtained via Logistic Regression in our full model comparison process (i.e., 1 dollar sign businesses, pizza, hotdogs and donuts). As mentioned earlier, we are not surprised that these features are negatively associated with affluence, as they are lower-priced and quick food options.\n",
    "\n",
    "Despite the non-ideal nature of our modeling data set, we are satisfied by our model performance. We were able to attain a ROC AUC that is considerably better than our baseline. We found great insights into the nature of the types of businesses that are prominent (from a percentage perspective) in affluent NYC neighborhoods. Going forward, our client could leverage this type of modeling methodology to assess other cities in similar way, yielding  insights into the distinct features that relate to 'affluence' in other cities.\n",
    "\n",
    "As an alternate, quicker, and more statistical modeling approach, we will also pursue a Modeling Option 2, where we make predictions based on the entire set of businesses in NYC."
   ]
  }
 ],
 "metadata": {
  "kernelspec": {
   "display_name": "Python 3",
   "language": "python",
   "name": "python3"
  },
  "language_info": {
   "codemirror_mode": {
    "name": "ipython",
    "version": 3
   },
   "file_extension": ".py",
   "mimetype": "text/x-python",
   "name": "python",
   "nbconvert_exporter": "python",
   "pygments_lexer": "ipython3",
   "version": "3.7.4"
  },
  "toc": {
   "base_numbering": 1,
   "nav_menu": {},
   "number_sections": true,
   "sideBar": true,
   "skip_h1_title": false,
   "title_cell": "Table of Contents",
   "title_sidebar": "Contents",
   "toc_cell": true,
   "toc_position": {},
   "toc_section_display": true,
   "toc_window_display": true
  }
 },
 "nbformat": 4,
 "nbformat_minor": 2
}
