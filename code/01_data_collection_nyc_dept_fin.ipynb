{
 "cells": [
  {
   "cell_type": "markdown",
   "metadata": {},
   "source": [
    "# Data Collection: NYC Department of Finance Real Estate Sales Dataset\n"
   ]
  },
  {
   "cell_type": "markdown",
   "metadata": {},
   "source": [
    "We used NYC Department of Finance’s [Rolling Sales files](https://www1.nyc.gov/site/finance/taxes/property-rolling-sales-data.page), which lists properties that sold in the last twelve-month period (from February 2019 - January 2020) in New York City (including all five boroughs).   \n",
    "Please find **Data Dictionary** in the [link](https://www1.nyc.gov/assets/finance/downloads/pdf/07pdf/glossary_rsf071607.pdf)."
   ]
  },
  {
   "cell_type": "markdown",
   "metadata": {},
   "source": [
    "## Import libraries"
   ]
  },
  {
   "cell_type": "code",
   "execution_count": 1,
   "metadata": {},
   "outputs": [],
   "source": [
    "import pandas as pd\n",
    "import numpy as np"
   ]
  },
  {
   "cell_type": "markdown",
   "metadata": {},
   "source": [
    "## Clean and combine all datasets from NYC"
   ]
  },
  {
   "cell_type": "code",
   "execution_count": 2,
   "metadata": {},
   "outputs": [],
   "source": [
    "boroughs = ['manhattan', 'brooklyn', 'bronx', 'queens', 'statenisland']"
   ]
  },
  {
   "cell_type": "code",
   "execution_count": 3,
   "metadata": {},
   "outputs": [],
   "source": [
    "# Define a funciton to clean and combine all datasets \n",
    "def clean_and_combine_all_boroughs(list_of_boroughs):\n",
    "    df_list = []\n",
    "    for borough in list_of_boroughs:\n",
    "        # read in csv\n",
    "        df_borough = pd.read_csv(f'../../data/raw_nyc_dept_fin_data/{borough}.csv', thousands=',')\n",
    "        # format column names\n",
    "        df_borough.columns = [i.strip().lower().replace(' ', '_') for i in df_borough.columns]\n",
    "        # drop empty rows created when export .xls as csv\n",
    "        df_borough = df_borough[np.isfinite(df_borough['borough'])]\n",
    "        # drop column 'ease-ment' that are all NaN\n",
    "        df_borough = df_borough.drop(columns=['ease-ment'])\n",
    "        df_list.append(df_borough)\n",
    "    return pd.concat(df_list)"
   ]
  },
  {
   "cell_type": "code",
   "execution_count": 4,
   "metadata": {},
   "outputs": [],
   "source": [
    "df = clean_and_combine_all_boroughs(boroughs)"
   ]
  },
  {
   "cell_type": "markdown",
   "metadata": {},
   "source": [
    "## Initial Data Cleaning"
   ]
  },
  {
   "cell_type": "markdown",
   "metadata": {},
   "source": [
    "### Change data types"
   ]
  },
  {
   "cell_type": "code",
   "execution_count": 5,
   "metadata": {},
   "outputs": [],
   "source": [
    "list_of_col_to_int = ['borough', 'block', 'zip_code', 'year_built', 'tax_class_at_time_of_sale']"
   ]
  },
  {
   "cell_type": "code",
   "execution_count": 6,
   "metadata": {},
   "outputs": [],
   "source": [
    "def col_convert_float_to_int(col_list, df):\n",
    "    for i in col_list:\n",
    "        df[i] = df[i].astype('Int64')\n",
    "    return df"
   ]
  },
  {
   "cell_type": "code",
   "execution_count": 7,
   "metadata": {},
   "outputs": [],
   "source": [
    "df = col_convert_float_to_int(list_of_col_to_int, df)"
   ]
  },
  {
   "cell_type": "markdown",
   "metadata": {},
   "source": [
    "## Export as .csv"
   ]
  },
  {
   "cell_type": "code",
   "execution_count": 10,
   "metadata": {},
   "outputs": [],
   "source": [
    "#df.to_csv('../../data/nyc_dept_fin.csv', index=False)"
   ]
  }
 ],
 "metadata": {
  "kernelspec": {
   "display_name": "Python 3",
   "language": "python",
   "name": "python3"
  },
  "language_info": {
   "codemirror_mode": {
    "name": "ipython",
    "version": 3
   },
   "file_extension": ".py",
   "mimetype": "text/x-python",
   "name": "python",
   "nbconvert_exporter": "python",
   "pygments_lexer": "ipython3",
   "version": "3.7.4"
  },
  "toc": {
   "base_numbering": 1,
   "nav_menu": {},
   "number_sections": true,
   "sideBar": true,
   "skip_h1_title": false,
   "title_cell": "Table of Contents",
   "title_sidebar": "Contents",
   "toc_cell": false,
   "toc_position": {},
   "toc_section_display": true,
   "toc_window_display": false
  }
 },
 "nbformat": 4,
 "nbformat_minor": 2
}
